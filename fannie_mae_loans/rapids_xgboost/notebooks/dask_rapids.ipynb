{
 "cells": [
  {
   "cell_type": "markdown",
   "metadata": {},
   "source": [
    "### Resources Used"
   ]
  },
  {
   "cell_type": "markdown",
   "metadata": {},
   "source": [
    "* Dataset\n",
    " - https://docs.rapids.ai/datasets/mortgage-data\n",
    " - https://capmrkt.fanniemae.com/portal/funding-the-market/data/loan-performance-data.html\n",
    "* RAPIDS + Dask Documentation\n",
    " - https://docs.rapids.ai/api/cudf/stable/10min.html\n",
    " - https://docs.dask.org/en/latest/dataframe-best-practices.html\n",
    " - https://docs.dask.org/en/latest/setup/single-distributed.html#localcluster\n",
    " - https://distributed.dask.org/en/latest/memory.html\n",
    " - https://dask-cuda.readthedocs.io/en/latest/specializations.html\n",
    "* Other examples with this dataset\n",
    " - https://www.dataquest.io/blog/data-science-portfolio-machine-learning/\n",
    " - https://github.com/dhananjaymehta/FannieMae_LoanForeclosure\n",
    " - https://degravek.github.io/project-pages/project1/2016/11/12/New-Notebook/\n",
    " - https://riskspan.com/hands-on-machine-learning-predicting-loan-delinquency/\n",
    " \n",
    " \n",
    " \n",
    "\n",
    "\n",
    "\n",
    "\n"
   ]
  },
  {
   "cell_type": "markdown",
   "metadata": {},
   "source": [
    "## Create conda enviornment with the following libraries\n",
    "```\n",
    "conda create -n rapids-0.17 -c rapidsai -c nvidia -c conda-forge -c defaults rapids-blazing=0.17 python=3.7 cudatoolkit=11.0 matplotlib=3.3.3 gcsfs=0.7.1\n",
    "```\n"
   ]
  },
  {
   "cell_type": "markdown",
   "metadata": {},
   "source": [
    "## Check Environment"
   ]
  },
  {
   "cell_type": "code",
   "execution_count": 1,
   "metadata": {},
   "outputs": [
    {
     "name": "stdout",
     "output_type": "stream",
     "text": [
      "Thu Jan  7 06:58:48 2021       \n",
      "+-----------------------------------------------------------------------------+\n",
      "| NVIDIA-SMI 450.51.06    Driver Version: 450.51.06    CUDA Version: 11.0     |\n",
      "|-------------------------------+----------------------+----------------------+\n",
      "| GPU  Name        Persistence-M| Bus-Id        Disp.A | Volatile Uncorr. ECC |\n",
      "| Fan  Temp  Perf  Pwr:Usage/Cap|         Memory-Usage | GPU-Util  Compute M. |\n",
      "|                               |                      |               MIG M. |\n",
      "|===============================+======================+======================|\n",
      "|   0  A100-SXM4-40GB      On   | 00000000:00:04.0 Off |                    0 |\n",
      "| N/A   36C    P0    61W / 400W |      0MiB / 40537MiB |      0%      Default |\n",
      "|                               |                      |             Disabled |\n",
      "+-------------------------------+----------------------+----------------------+\n",
      "|   1  A100-SXM4-40GB      On   | 00000000:00:05.0 Off |                    0 |\n",
      "| N/A   37C    P0    57W / 400W |      0MiB / 40537MiB |      0%      Default |\n",
      "|                               |                      |             Disabled |\n",
      "+-------------------------------+----------------------+----------------------+\n",
      "                                                                               \n",
      "+-----------------------------------------------------------------------------+\n",
      "| Processes:                                                                  |\n",
      "|  GPU   GI   CI        PID   Type   Process name                  GPU Memory |\n",
      "|        ID   ID                                                   Usage      |\n",
      "|=============================================================================|\n",
      "|  No running processes found                                                 |\n",
      "+-----------------------------------------------------------------------------+\n",
      "nvcc: NVIDIA (R) Cuda compiler driver\n",
      "Copyright (c) 2005-2020 NVIDIA Corporation\n",
      "Built on Thu_Jun_11_22:26:38_PDT_2020\n",
      "Cuda compilation tools, release 11.0, V11.0.194\n",
      "Build cuda_11.0_bu.TC445_37.28540450_0\n"
     ]
    }
   ],
   "source": [
    "%%bash\n",
    "nvidia-smi\n",
    "nvcc --version"
   ]
  },
  {
   "cell_type": "code",
   "execution_count": 2,
   "metadata": {},
   "outputs": [
    {
     "name": "stdout",
     "output_type": "stream",
     "text": [
      "numpy Version: 1.19.4\n",
      "pandas Version: 1.1.5\n",
      "XGBoost Version: 1.3.0\n",
      "cudf Version: 0.17.0\n",
      "cudf Version: 0.17.0\n",
      "gcsfs Version: 0.7.1\n",
      "dask_cudf Version: 0.7.1\n",
      "dask Version: 0.7.1\n",
      "matplotlib Version: 3.3.3\n"
     ]
    }
   ],
   "source": [
    "import numpy as np; print('numpy Version:', np.__version__)\n",
    "import pandas as pd; print('pandas Version:', pd.__version__)\n",
    "import xgboost as xgb; print('XGBoost Version:', xgb.__version__)\n",
    "import cudf; print('cudf Version:', cudf.__version__)\n",
    "import cuml; print('cudf Version:', cuml.__version__)\n",
    "import gcsfs; print('gcsfs Version:', gcsfs.__version__)\n",
    "import time\n",
    "import dask_cudf; print('dask_cudf Version:', gcsfs.__version__)\n",
    "import dask; print('dask Version:', gcsfs.__version__)\n",
    "import dask.dataframe as dask_df\n",
    "import glob;\n",
    "import matplotlib; print('matplotlib Version:', matplotlib.__version__)\n",
    "from dask.diagnostics import ProgressBar\n",
    "from dask.distributed import Client, progress, wait"
   ]
  },
  {
   "cell_type": "markdown",
   "metadata": {},
   "source": [
    "## Set up Dask Cluster"
   ]
  },
  {
   "cell_type": "code",
   "execution_count": 3,
   "metadata": {},
   "outputs": [],
   "source": [
    "# from dask.distributed import Client\n",
    "# client = Client()\n",
    "# client"
   ]
  },
  {
   "cell_type": "code",
   "execution_count": 4,
   "metadata": {},
   "outputs": [
    {
     "data": {
      "text/html": [
       "<table style=\"border: 2px solid white;\">\n",
       "<tr>\n",
       "<td style=\"vertical-align: top; border: 0px solid white\">\n",
       "<h3 style=\"text-align: left;\">Client</h3>\n",
       "<ul style=\"text-align: left; list-style: none; margin: 0; padding: 0;\">\n",
       "  <li><b>Scheduler: </b>tcp://127.0.0.1:44859</li>\n",
       "  <li><b>Dashboard: </b><a href='http://127.0.0.1:8787/status' target='_blank'>http://127.0.0.1:8787/status</a></li>\n",
       "</ul>\n",
       "</td>\n",
       "<td style=\"vertical-align: top; border: 0px solid white\">\n",
       "<h3 style=\"text-align: left;\">Cluster</h3>\n",
       "<ul style=\"text-align: left; list-style:none; margin: 0; padding: 0;\">\n",
       "  <li><b>Workers: </b>2</li>\n",
       "  <li><b>Cores: </b>2</li>\n",
       "  <li><b>Memory: </b>179.38 GB</li>\n",
       "</ul>\n",
       "</td>\n",
       "</tr>\n",
       "</table>"
      ],
      "text/plain": [
       "<Client: 'tcp://127.0.0.1:44859' processes=2 threads=2, memory=179.38 GB>"
      ]
     },
     "execution_count": 4,
     "metadata": {},
     "output_type": "execute_result"
    }
   ],
   "source": [
    "import blazingsql\n",
    "import dask_cudf\n",
    "from dask.distributed import Client\n",
    "from dask_cuda import LocalCUDACluster\n",
    "\n",
    "cluster = LocalCUDACluster()\n",
    "client = Client(cluster)\n",
    "# bc = blazingsql.BlazingContext(dask_client=client, network_interface='lo')\n",
    "client"
   ]
  },
  {
   "cell_type": "code",
   "execution_count": 5,
   "metadata": {},
   "outputs": [],
   "source": [
    "# client.restart()\n",
    "# client"
   ]
  },
  {
   "cell_type": "markdown",
   "metadata": {},
   "source": [
    "## Define Data Schema & Data Types"
   ]
  },
  {
   "cell_type": "code",
   "execution_count": 40,
   "metadata": {},
   "outputs": [],
   "source": [
    "col_acq_names = ['LoanID','Channel','SellerName','OrInterestRate','OrUnpaidPrinc','OrLoanTerm',\n",
    "        'OrDate','FirstPayment','OrLTV','OrCLTV','NumBorrow','DTIRat','CreditScore',\n",
    "        'FTHomeBuyer','LoanPurpose','PropertyType','NumUnits','OccStatus','PropertyState',\n",
    "        'Zip','MortInsPerc','ProductType','CoCreditScore','MortInsType','RelMortInd']\n",
    "\n",
    "col_per_names = ['LoanID','MonthRep','Servicer','CurrInterestRate','CAUPB','LoanAge','MonthsToMaturity',\n",
    "          'AdMonthsToMaturity','MaturityDate','MSA','CLDS','ModFlag','ZeroBalCode','ZeroBalDate',\n",
    "          'LastInstallDate','ForeclosureDate','DispositionDate','PPRC','AssetRecCost','MHRC',\n",
    "          'ATFHP','NetSaleProceeds','CreditEnhProceeds','RPMWP','OFP','NIBUPB','PFUPB','RMWPF',\n",
    "          'FPWA','ServicingIndicator']\n",
    "\n",
    "col_acq = ['LoanID','OrDate','OrUnpaidPrinc','Channel','SellerName','PropertyType','NumUnits','PropertyState']\n",
    "\n",
    "col_per = ['LoanID','MonthRep', 'CAUPB','CLDS','ForeclosureDate']\n",
    "\n",
    "\n",
    "parse_dates_acq =['OrDate','FirstPayment']\n",
    "parse_dates_per =['MonthRep','MaturityDate','ZeroBalDate','LastInstallDate','ForeclosureDate','DispositionDate']\n",
    "\n",
    "# dtype_acq={ \"LoanID\":\"str\",\"Channel\":\"str\",\"SellerName\":\"str\",\"OrInterestRate\":\"str\",\"OrUnpaidPrinc\":\"str\",\"OrLoanTerm\":\"str\",\"OrDate\":\"str\",\n",
    "#    \"FirstPayment\":\"str\",\"OrLTV\":\"str\",\"OrCLTV\":\"str\",  \"NumBorrow\":\"str\", \"DTIRat\":\"str\", \"CreditScore\":\"str\", \"FTHomeBuyer\":\"str\",\n",
    "#    \"LoanPurpose\":\"str\", \"PropertyType\":\"str\", \"NumUnits\":\"str\", \"OccStatus\":\"str\",  \"PropertyState\":\"str\",  \"Zip\":\"str\", \"MortInsPerc\":\"str\",\n",
    "#    \"ProductType\":\"str\", \"CoCreditScore\":\"str\", \"MortInsType\":\"str\", \"RelMortInd\":\"str\"}\n",
    "\n",
    "dtype_acq={ \"LoanID\":\"int\",\"Channel\":\"str\",\"SellerName\":\"str\",\"OrInterestRate\":\"float\",\"OrUnpaidPrinc\":\"float\",\"OrLoanTerm\":\"float\",\"OrDate\":\"str\",\n",
    "   \"FirstPayment\":\"str\",\"OrLTV\":\"float\",\"OrCLTV\":\"float\",  \"NumBorrow\":\"float\", \"DTIRat\":\"float\", \"CreditScore\":\"float\", \"FTHomeBuyer\":\"str\",\n",
    "   \"LoanPurpose\":\"str\", \"PropertyType\":\"str\", \"NumUnits\":\"float\", \"OccStatus\":\"str\",  \"PropertyState\":\"str\",  \"Zip\":\"int\", \"MortInsPerc\":\"float\",\n",
    "   \"ProductType\":\"str\", \"CoCreditScore\":\"float\", \"MortInsType\":\"float\", \"RelMortInd\":\"str\"}\n",
    "\n",
    "# dtype_per={\"LoanID\":\"str\",\"MonthRep\":\"str\",\"Servicer\":\"str\", \"CurrInterestRate\":\"str\", \"CAUPB\":\"str\", \"LoanAge\":\"str\",\"MonthsToMaturity\":\"str\",\n",
    "#    \"AdMonthsToMaturity\":\"str\", \"MaturityDate\":\"str\", \"MSA\":\"str\", \"CLDS\":\"str\", \"ModFlag\":\"str\", \"ZeroBalCode\":\"str\", \"ZeroBalDate\":\"str\",\n",
    "#     \"LastInstallDate\":\"str\",  \"ForeclosureDate\":\"str\", \"DispositionDate\":\"str\", \"PPRC\":\"str\", \"AssetRecCost\":\"str\", \"MHRC\":\"str\", \"ATFHP\":\"str\",\n",
    "#     \"NetSaleProceeds\":\"str\", \"CreditEnhProceeds\":\"str\",\"RPMWP\":\"str\",\"OFP\":\"str\",\"NIBUPB\":\"str\", \"PFUPB\":\"str\", \"RMWPF\":\"str\",\n",
    "#    \"FPWA\":\"str\", \"ServicingIndicator\":\"str\"\n",
    "# }\n",
    "\n",
    "dtype_per={\"LoanID\":\"int\",\"MonthRep\":\"str\",\"Servicer\":\"str\", \"CurrInterestRate\":\"float\", \"CAUPB\":\"float\", \"LoanAge\":\"float\",\"MonthsToMaturity\":\"float\",\n",
    "   \"AdMonthsToMaturity\":\"float\", \"MaturityDate\":\"str\", \"MSA\":\"float\", \"CLDS\":\"float\", \"ModFlag\":\"str\", \"ZeroBalCode\":\"float\", \"ZeroBalDate\":\"str\",\n",
    "    \"LastInstallDate\":\"str\",  \"ForeclosureDate\":\"str\", \"DispositionDate\":\"str\", \"PPRC\":\"float\", \"AssetRecCost\":\"float\", \"MHRC\":\"float\", \"ATFHP\":\"float\",\n",
    "    \"NetSaleProceeds\":\"float\", \"CreditEnhProceeds\":\"float\",\"RPMWP\":\"float\",\"OFP\":\"float\",\"NIBUPB\":\"float\", \"PFUPB\":\"float\", \"RMWPF\":\"float\",\n",
    "   \"FPWA\":\"str\", \"ServicingIndicator\":\"str\"\n",
    "}"
   ]
  },
  {
   "cell_type": "markdown",
   "metadata": {},
   "source": [
    "## Test on small sample"
   ]
  },
  {
   "cell_type": "code",
   "execution_count": 7,
   "metadata": {},
   "outputs": [],
   "source": [
    "# sample_acq_fnames='gs://mchrestkha-github-ml-examples/fannie_mae_loans/acq/Acquisition_2016Q1.txt'\n",
    "# sample_perf_fnames='gs://mchrestkha-github-ml-examples/fannie_mae_loans/perf/Performance_2016Q1.txt'\n",
    "\n",
    "# sample_df_acq = pd.read_csv(sample_acq_fnames, sep='|',  index_col=False, nrows=100)\n",
    "# sample_df_per = pd.read_csv(sample_perf_fnames, sep='|', index_col=False, nrows=100)\n",
    "\n",
    "# sample_df_acq = pd.read_csv(sample_acq_fnames, sep='|', names=col_acq_names, index_col=False, dtype=dtype_acq, parse_dates=parse_dates_acq, nrows=100)\n",
    "# sample_df_per = pd.read_csv(sample_perf_fnames, sep='|', names=col_per_names, index_col=False, dtype=dtype_per, parse_dates=parse_dates_per, nrows=100)"
   ]
  },
  {
   "cell_type": "markdown",
   "metadata": {},
   "source": [
    "## Run on full population"
   ]
  },
  {
   "cell_type": "markdown",
   "metadata": {},
   "source": [
    "### Data Ingestion"
   ]
  },
  {
   "cell_type": "code",
   "execution_count": 8,
   "metadata": {},
   "outputs": [],
   "source": [
    "# csv_acq_fnames='gs://mchrestkha-github-ml-examples/fannie_mae_loans/acq/Acquisition_20*'\n",
    "# csv_perf_fnames='gs://mchrestkha-github-ml-examples/fannie_mae_loans/perf/Performance_20*'\n",
    "\n",
    "parq_acq_fnames='gs://mchrestkha-github-ml-examples/fannie_mae_loans/acq/parquet68'\n",
    "parq_per_fnames='gs://mchrestkha-github-ml-examples/fannie_mae_loans/perf/parquet823'"
   ]
  },
  {
   "cell_type": "code",
   "execution_count": 94,
   "metadata": {},
   "outputs": [
    {
     "name": "stdout",
     "output_type": "stream",
     "text": [
      "CPU times: user 65.2 ms, sys: 0 ns, total: 65.2 ms\n",
      "Wall time: 264 ms\n",
      "CPU times: user 273 ms, sys: 6.33 ms, total: 279 ms\n",
      "Wall time: 662 ms\n"
     ]
    }
   ],
   "source": [
    "# %time df_acq = dask_cudf.read_csv(csv_acq_fnames, sep='|', names=col_acq_names, dtype=dtype_acq, parse_dates=parse_dates_acq)\n",
    "# %time df_pe = dask_cudf.read_csv(csv_perf_fnames, sep='|', names=col_per_names, dtype=dtype_per, parse_dates=parse_dates_per)\n",
    "\n",
    "%time df_acq = dask_cudf.read_parquet(parq_acq_fnames)\n",
    "%time df_per = dask_cudf.read_parquet(parq_per_fnames, columns=col_per)"
   ]
  },
  {
   "cell_type": "code",
   "execution_count": 10,
   "metadata": {},
   "outputs": [],
   "source": [
    "# %time print(\"Required Memory for df_acq:\",df_acq.memory_usage().sum().compute()/(1024**3), 'GB')\n",
    "# %time print(\"Required Memory for df_per:\",df_per.memory_usage().sum().compute()/(1024**3), 'GB')"
   ]
  },
  {
   "cell_type": "markdown",
   "metadata": {},
   "source": [
    "## Data Profiling & Data Quality Check against Summary Statistics \n",
    "- Data Dictionary: https://loanperformancedata.fanniemae.com/lppub-docs/FNMA_SF_Loan_Performance_Glossary.pdf\n",
    "- Sumary Statistics: https://loanperformancedata.fanniemae.com/lppub-docs/FNMA_SF_Loan_Performance_Stat_Summary_Primary.pdf\n",
    "- Sample Data: https://docs.google.com/spreadsheets/d/1nCtusAE2naZlWHFKGRsQTxxusjfZYiBLdd5SF5AEGMA/edit\n",
    "\n"
   ]
  },
  {
   "cell_type": "code",
   "execution_count": 11,
   "metadata": {},
   "outputs": [],
   "source": [
    "# %time df_acq_describe=df_acq.describe().compute()\n",
    "# %time df_per_describe=df_per.describe().compute()"
   ]
  },
  {
   "cell_type": "code",
   "execution_count": 12,
   "metadata": {},
   "outputs": [],
   "source": [
    "df_acq['OrYr']=df_acq['OrDate'].str[-4:]\n",
    "df_acq['OrUnpaidPrinc $M']=df_acq['OrUnpaidPrinc']/1000000"
   ]
  },
  {
   "cell_type": "code",
   "execution_count": 17,
   "metadata": {},
   "outputs": [],
   "source": [
    "df_acq_describe=df_acq.describe().compute()"
   ]
  },
  {
   "cell_type": "code",
   "execution_count": 18,
   "metadata": {},
   "outputs": [],
   "source": [
    "df_acq_nulls=df_acq.isna().sum().compute()"
   ]
  },
  {
   "cell_type": "code",
   "execution_count": 19,
   "metadata": {},
   "outputs": [
    {
     "data": {
      "text/html": [
       "<div>\n",
       "<style scoped>\n",
       "    .dataframe tbody tr th:only-of-type {\n",
       "        vertical-align: middle;\n",
       "    }\n",
       "\n",
       "    .dataframe tbody tr th {\n",
       "        vertical-align: top;\n",
       "    }\n",
       "\n",
       "    .dataframe thead th {\n",
       "        text-align: right;\n",
       "    }\n",
       "</style>\n",
       "<table border=\"1\" class=\"dataframe\">\n",
       "  <thead>\n",
       "    <tr style=\"text-align: right;\">\n",
       "      <th></th>\n",
       "      <th>CoCreditScore</th>\n",
       "      <th>CreditScore</th>\n",
       "      <th>DTIRat</th>\n",
       "      <th>LoanID</th>\n",
       "      <th>MortInsPerc</th>\n",
       "      <th>MortInsType</th>\n",
       "      <th>NumBorrow</th>\n",
       "      <th>NumUnits</th>\n",
       "      <th>OrCLTV</th>\n",
       "      <th>OrInterestRate</th>\n",
       "      <th>OrLTV</th>\n",
       "      <th>OrLoanTerm</th>\n",
       "      <th>OrUnpaidPrinc</th>\n",
       "      <th>OrUnpaidPrinc $M</th>\n",
       "      <th>Zip</th>\n",
       "    </tr>\n",
       "  </thead>\n",
       "  <tbody>\n",
       "    <tr>\n",
       "      <th>count</th>\n",
       "      <td>1.854123e+07</td>\n",
       "      <td>3.685838e+07</td>\n",
       "      <td>3.625035e+07</td>\n",
       "      <td>3.701521e+07</td>\n",
       "      <td>6.354230e+06</td>\n",
       "      <td>6.354230e+06</td>\n",
       "      <td>3.700536e+07</td>\n",
       "      <td>3.701521e+07</td>\n",
       "      <td>3.670808e+07</td>\n",
       "      <td>3.701521e+07</td>\n",
       "      <td>3.701520e+07</td>\n",
       "      <td>3.701521e+07</td>\n",
       "      <td>3.701521e+07</td>\n",
       "      <td>3.701521e+07</td>\n",
       "      <td>3.701521e+07</td>\n",
       "    </tr>\n",
       "    <tr>\n",
       "      <th>mean</th>\n",
       "      <td>7.509170e+02</td>\n",
       "      <td>7.419925e+02</td>\n",
       "      <td>3.317813e+01</td>\n",
       "      <td>5.500111e+11</td>\n",
       "      <td>2.357944e+01</td>\n",
       "      <td>1.076823e+00</td>\n",
       "      <td>1.595529e+00</td>\n",
       "      <td>1.035543e+00</td>\n",
       "      <td>7.056396e+01</td>\n",
       "      <td>5.314799e+00</td>\n",
       "      <td>6.974751e+01</td>\n",
       "      <td>3.060789e+02</td>\n",
       "      <td>1.864946e+05</td>\n",
       "      <td>1.864946e-01</td>\n",
       "      <td>5.443470e+02</td>\n",
       "    </tr>\n",
       "    <tr>\n",
       "      <th>std</th>\n",
       "      <td>5.092398e+01</td>\n",
       "      <td>5.384524e+01</td>\n",
       "      <td>1.168917e+01</td>\n",
       "      <td>NaN</td>\n",
       "      <td>7.230564e+00</td>\n",
       "      <td>2.666142e-01</td>\n",
       "      <td>5.059507e-01</td>\n",
       "      <td>2.457254e-01</td>\n",
       "      <td>1.751229e+01</td>\n",
       "      <td>1.298312e+00</td>\n",
       "      <td>1.742895e+01</td>\n",
       "      <td>8.290984e+01</td>\n",
       "      <td>1.076662e+05</td>\n",
       "      <td>1.076662e-01</td>\n",
       "      <td>3.064862e+02</td>\n",
       "    </tr>\n",
       "    <tr>\n",
       "      <th>min</th>\n",
       "      <td>3.000000e+02</td>\n",
       "      <td>3.000000e+02</td>\n",
       "      <td>1.000000e+00</td>\n",
       "      <td>1.000000e+11</td>\n",
       "      <td>1.000000e+00</td>\n",
       "      <td>1.000000e+00</td>\n",
       "      <td>1.000000e+00</td>\n",
       "      <td>1.000000e+00</td>\n",
       "      <td>1.000000e+00</td>\n",
       "      <td>1.750000e+00</td>\n",
       "      <td>1.000000e+00</td>\n",
       "      <td>6.000000e+01</td>\n",
       "      <td>1.000000e+03</td>\n",
       "      <td>1.000000e-03</td>\n",
       "      <td>0.000000e+00</td>\n",
       "    </tr>\n",
       "    <tr>\n",
       "      <th>25%</th>\n",
       "      <td>7.450000e+02</td>\n",
       "      <td>7.330000e+02</td>\n",
       "      <td>3.000000e+01</td>\n",
       "      <td>3.737849e+11</td>\n",
       "      <td>2.500000e+01</td>\n",
       "      <td>1.000000e+00</td>\n",
       "      <td>1.000000e+00</td>\n",
       "      <td>1.000000e+00</td>\n",
       "      <td>7.000000e+01</td>\n",
       "      <td>4.625000e+00</td>\n",
       "      <td>7.000000e+01</td>\n",
       "      <td>3.600000e+02</td>\n",
       "      <td>1.320000e+05</td>\n",
       "      <td>1.320000e-01</td>\n",
       "      <td>3.280000e+02</td>\n",
       "    </tr>\n",
       "    <tr>\n",
       "      <th>50%</th>\n",
       "      <td>7.790000e+02</td>\n",
       "      <td>7.730000e+02</td>\n",
       "      <td>3.800000e+01</td>\n",
       "      <td>6.078550e+11</td>\n",
       "      <td>2.500000e+01</td>\n",
       "      <td>1.000000e+00</td>\n",
       "      <td>2.000000e+00</td>\n",
       "      <td>1.000000e+00</td>\n",
       "      <td>8.000000e+01</td>\n",
       "      <td>5.875000e+00</td>\n",
       "      <td>8.000000e+01</td>\n",
       "      <td>3.600000e+02</td>\n",
       "      <td>1.950000e+05</td>\n",
       "      <td>1.950000e-01</td>\n",
       "      <td>6.140000e+02</td>\n",
       "    </tr>\n",
       "    <tr>\n",
       "      <th>75%</th>\n",
       "      <td>8.370000e+02</td>\n",
       "      <td>8.350000e+02</td>\n",
       "      <td>5.100000e+01</td>\n",
       "      <td>8.298832e+11</td>\n",
       "      <td>3.500000e+01</td>\n",
       "      <td>2.000000e+00</td>\n",
       "      <td>5.000000e+00</td>\n",
       "      <td>4.000000e+00</td>\n",
       "      <td>1.050000e+02</td>\n",
       "      <td>6.875000e+00</td>\n",
       "      <td>9.700000e+01</td>\n",
       "      <td>3.600000e+02</td>\n",
       "      <td>5.290000e+05</td>\n",
       "      <td>5.290000e-01</td>\n",
       "      <td>9.020000e+02</td>\n",
       "    </tr>\n",
       "    <tr>\n",
       "      <th>max</th>\n",
       "      <td>8.500000e+02</td>\n",
       "      <td>8.500000e+02</td>\n",
       "      <td>6.400000e+01</td>\n",
       "      <td>1.000000e+12</td>\n",
       "      <td>5.000000e+01</td>\n",
       "      <td>3.000000e+00</td>\n",
       "      <td>1.000000e+01</td>\n",
       "      <td>4.000000e+00</td>\n",
       "      <td>1.990000e+02</td>\n",
       "      <td>1.350000e+01</td>\n",
       "      <td>9.700000e+01</td>\n",
       "      <td>3.600000e+02</td>\n",
       "      <td>1.403000e+06</td>\n",
       "      <td>1.403000e+00</td>\n",
       "      <td>9.990000e+02</td>\n",
       "    </tr>\n",
       "  </tbody>\n",
       "</table>\n",
       "</div>"
      ],
      "text/plain": [
       "       CoCreditScore   CreditScore        DTIRat        LoanID   MortInsPerc  \\\n",
       "count   1.854123e+07  3.685838e+07  3.625035e+07  3.701521e+07  6.354230e+06   \n",
       "mean    7.509170e+02  7.419925e+02  3.317813e+01  5.500111e+11  2.357944e+01   \n",
       "std     5.092398e+01  5.384524e+01  1.168917e+01           NaN  7.230564e+00   \n",
       "min     3.000000e+02  3.000000e+02  1.000000e+00  1.000000e+11  1.000000e+00   \n",
       "25%     7.450000e+02  7.330000e+02  3.000000e+01  3.737849e+11  2.500000e+01   \n",
       "50%     7.790000e+02  7.730000e+02  3.800000e+01  6.078550e+11  2.500000e+01   \n",
       "75%     8.370000e+02  8.350000e+02  5.100000e+01  8.298832e+11  3.500000e+01   \n",
       "max     8.500000e+02  8.500000e+02  6.400000e+01  1.000000e+12  5.000000e+01   \n",
       "\n",
       "        MortInsType     NumBorrow      NumUnits        OrCLTV  OrInterestRate  \\\n",
       "count  6.354230e+06  3.700536e+07  3.701521e+07  3.670808e+07    3.701521e+07   \n",
       "mean   1.076823e+00  1.595529e+00  1.035543e+00  7.056396e+01    5.314799e+00   \n",
       "std    2.666142e-01  5.059507e-01  2.457254e-01  1.751229e+01    1.298312e+00   \n",
       "min    1.000000e+00  1.000000e+00  1.000000e+00  1.000000e+00    1.750000e+00   \n",
       "25%    1.000000e+00  1.000000e+00  1.000000e+00  7.000000e+01    4.625000e+00   \n",
       "50%    1.000000e+00  2.000000e+00  1.000000e+00  8.000000e+01    5.875000e+00   \n",
       "75%    2.000000e+00  5.000000e+00  4.000000e+00  1.050000e+02    6.875000e+00   \n",
       "max    3.000000e+00  1.000000e+01  4.000000e+00  1.990000e+02    1.350000e+01   \n",
       "\n",
       "              OrLTV    OrLoanTerm  OrUnpaidPrinc  OrUnpaidPrinc $M  \\\n",
       "count  3.701520e+07  3.701521e+07   3.701521e+07      3.701521e+07   \n",
       "mean   6.974751e+01  3.060789e+02   1.864946e+05      1.864946e-01   \n",
       "std    1.742895e+01  8.290984e+01   1.076662e+05      1.076662e-01   \n",
       "min    1.000000e+00  6.000000e+01   1.000000e+03      1.000000e-03   \n",
       "25%    7.000000e+01  3.600000e+02   1.320000e+05      1.320000e-01   \n",
       "50%    8.000000e+01  3.600000e+02   1.950000e+05      1.950000e-01   \n",
       "75%    9.700000e+01  3.600000e+02   5.290000e+05      5.290000e-01   \n",
       "max    9.700000e+01  3.600000e+02   1.403000e+06      1.403000e+00   \n",
       "\n",
       "                Zip  \n",
       "count  3.701521e+07  \n",
       "mean   5.443470e+02  \n",
       "std    3.064862e+02  \n",
       "min    0.000000e+00  \n",
       "25%    3.280000e+02  \n",
       "50%    6.140000e+02  \n",
       "75%    9.020000e+02  \n",
       "max    9.990000e+02  "
      ]
     },
     "execution_count": 19,
     "metadata": {},
     "output_type": "execute_result"
    }
   ],
   "source": [
    "df_acq_describe"
   ]
  },
  {
   "cell_type": "code",
   "execution_count": 20,
   "metadata": {},
   "outputs": [
    {
     "data": {
      "text/plain": [
       "LoanID                     0\n",
       "Channel                    0\n",
       "SellerName                 0\n",
       "OrInterestRate             6\n",
       "OrUnpaidPrinc              0\n",
       "OrLoanTerm                 0\n",
       "OrDate                     0\n",
       "FirstPayment               0\n",
       "OrLTV                     11\n",
       "OrCLTV                307134\n",
       "NumBorrow               9850\n",
       "DTIRat                764862\n",
       "CreditScore           156832\n",
       "FTHomeBuyer                0\n",
       "LoanPurpose                0\n",
       "PropertyType               0\n",
       "NumUnits                   0\n",
       "OccStatus                  0\n",
       "PropertyState              0\n",
       "Zip                        0\n",
       "MortInsPerc         30660984\n",
       "ProductType                0\n",
       "CoCreditScore       18473987\n",
       "MortInsType         30660984\n",
       "RelMortInd                 0\n",
       "OrYr                       0\n",
       "OrUnpaidPrinc $M           0\n",
       "dtype: uint64"
      ]
     },
     "execution_count": 20,
     "metadata": {},
     "output_type": "execute_result"
    }
   ],
   "source": [
    "df_acq_nulls"
   ]
  },
  {
   "cell_type": "code",
   "execution_count": 13,
   "metadata": {},
   "outputs": [
    {
     "name": "stdout",
     "output_type": "stream",
     "text": [
      "CPU times: user 1.07 s, sys: 172 ms, total: 1.25 s\n",
      "Wall time: 26.2 s\n"
     ]
    }
   ],
   "source": [
    "%time df_acq_summary = df_acq.groupby('OrYr',as_index=False).agg({'LoanID': 'count','OrUnpaidPrinc $M': 'sum'}).compute()\n",
    "df_acq_summary['AvgOrUnpaidPrinc']=df_acq_summary['OrUnpaidPrinc $M']/df_acq_summary['LoanID']*1000000"
   ]
  },
  {
   "cell_type": "code",
   "execution_count": 15,
   "metadata": {},
   "outputs": [
    {
     "data": {
      "text/plain": [
       "<AxesSubplot:xlabel='OrYr'>"
      ]
     },
     "execution_count": 15,
     "metadata": {},
     "output_type": "execute_result"
    },
    {
     "data": {
      "image/png": "[encoded data removed]",
      "text/plain": [
       "<Figure size 432x288 with 1 Axes>"
      ]
     },
     "metadata": {
      "needs_background": "light"
     },
     "output_type": "display_data"
    }
   ],
   "source": [
    "df_acq_summary.to_pandas().sort_values(by=['OrYr']).plot.bar(x='OrYr',y='LoanID')"
   ]
  },
  {
   "cell_type": "code",
   "execution_count": 34,
   "metadata": {},
   "outputs": [
    {
     "data": {
      "text/plain": [
       "<AxesSubplot:xlabel='OrYr'>"
      ]
     },
     "execution_count": 34,
     "metadata": {},
     "output_type": "execute_result"
    },
    {
     "data": {
      "image/png": "[encoded data removed]",
      "text/plain": [
       "<Figure size 432x288 with 1 Axes>"
      ]
     },
     "metadata": {
      "needs_background": "light"
     },
     "output_type": "display_data"
    }
   ],
   "source": [
    "df_acq_summary.to_pandas().sort_values(by=['OrYr']).plot.bar(x='OrYr',y='AvgOrUnpaidPrinc')"
   ]
  },
  {
   "cell_type": "markdown",
   "metadata": {},
   "source": [
    "https://stackoverflow.com/questions/49228596/pandas-case-when-default-in-pandas"
   ]
  },
  {
   "cell_type": "code",
   "execution_count": 11,
   "metadata": {},
   "outputs": [
    {
     "data": {
      "application/vnd.jupyter.widget-view+json": {
       "model_id": "47453db11c854f379dc9dfd32e0d5a0d",
       "version_major": 2,
       "version_minor": 0
      },
      "text/plain": [
       "VBox()"
      ]
     },
     "metadata": {},
     "output_type": "display_data"
    }
   ],
   "source": [
    "df_per['YrRep']=df_per['MonthRep'].str[-4:]\n",
    "df_per['CAUPB $M']=df_per['CAUPB']/1000000\n",
    "df_per_summary = df_per.groupby('MonthRep',as_index=False).agg({'CAUPB $M': 'sum','LoanID': 'count'}).persist()\n",
    "progress(df_per_summary)"
   ]
  },
  {
   "cell_type": "code",
   "execution_count": 18,
   "metadata": {},
   "outputs": [
    {
     "data": {
      "text/plain": [
       "<AxesSubplot:xlabel='MonthRep'>"
      ]
     },
     "execution_count": 18,
     "metadata": {},
     "output_type": "execute_result"
    },
    {
     "data": {
      "image/png": "[encoded data removed]",
      "text/plain": [
       "<Figure size 432x288 with 1 Axes>"
      ]
     },
     "metadata": {
      "needs_background": "light"
     },
     "output_type": "display_data"
    }
   ],
   "source": [
    "#df_per_summary=df_per_summary.compute()\n",
    "df_per_summary['YrRep']=df_per_summary['MonthRep'].str[-4:]\n",
    "df_per_summary.to_pandas().sort_values(by=['MonthRep']).plot.line(x='MonthRep',y='CAUPB $M')"
   ]
  },
  {
   "cell_type": "code",
   "execution_count": 10,
   "metadata": {},
   "outputs": [
    {
     "data": {
      "application/vnd.jupyter.widget-view+json": {
       "model_id": "59a9e92d3bf041ccb63bd91cad028c1c",
       "version_major": 2,
       "version_minor": 0
      },
      "text/plain": [
       "VBox()"
      ]
     },
     "metadata": {},
     "output_type": "display_data"
    }
   ],
   "source": [
    "zbcodes_summary = df_per.groupby('ZeroBalCode',as_index=False).agg({'LoanID': 'count'}).persist()\n",
    "progress(zbcodes_summary)"
   ]
  },
  {
   "cell_type": "markdown",
   "metadata": {},
   "source": [
    "Unique Zero Balance Codes"
   ]
  },
  {
   "cell_type": "code",
   "execution_count": 11,
   "metadata": {},
   "outputs": [
    {
     "data": {
      "text/html": [
       "<div>\n",
       "<style scoped>\n",
       "    .dataframe tbody tr th:only-of-type {\n",
       "        vertical-align: middle;\n",
       "    }\n",
       "\n",
       "    .dataframe tbody tr th {\n",
       "        vertical-align: top;\n",
       "    }\n",
       "\n",
       "    .dataframe thead th {\n",
       "        text-align: right;\n",
       "    }\n",
       "</style>\n",
       "<table border=\"1\" class=\"dataframe\">\n",
       "  <thead>\n",
       "    <tr style=\"text-align: right;\">\n",
       "      <th></th>\n",
       "      <th>ZeroBalCode</th>\n",
       "      <th>LoanID</th>\n",
       "    </tr>\n",
       "  </thead>\n",
       "  <tbody>\n",
       "    <tr>\n",
       "      <th>0</th>\n",
       "      <td>&lt;NA&gt;</td>\n",
       "      <td>1863621801</td>\n",
       "    </tr>\n",
       "    <tr>\n",
       "      <th>1</th>\n",
       "      <td>9.0</td>\n",
       "      <td>427482</td>\n",
       "    </tr>\n",
       "    <tr>\n",
       "      <th>2</th>\n",
       "      <td>15.0</td>\n",
       "      <td>19682</td>\n",
       "    </tr>\n",
       "    <tr>\n",
       "      <th>3</th>\n",
       "      <td>1.0</td>\n",
       "      <td>26055117</td>\n",
       "    </tr>\n",
       "    <tr>\n",
       "      <th>4</th>\n",
       "      <td>2.0</td>\n",
       "      <td>46262</td>\n",
       "    </tr>\n",
       "    <tr>\n",
       "      <th>5</th>\n",
       "      <td>6.0</td>\n",
       "      <td>67953</td>\n",
       "    </tr>\n",
       "    <tr>\n",
       "      <th>6</th>\n",
       "      <td>3.0</td>\n",
       "      <td>104090</td>\n",
       "    </tr>\n",
       "    <tr>\n",
       "      <th>7</th>\n",
       "      <td>16.0</td>\n",
       "      <td>11293</td>\n",
       "    </tr>\n",
       "  </tbody>\n",
       "</table>\n",
       "</div>"
      ],
      "text/plain": [
       "  ZeroBalCode      LoanID\n",
       "0        <NA>  1863621801\n",
       "1         9.0      427482\n",
       "2        15.0       19682\n",
       "3         1.0    26055117\n",
       "4         2.0       46262\n",
       "5         6.0       67953\n",
       "6         3.0      104090\n",
       "7        16.0       11293"
      ]
     },
     "execution_count": 11,
     "metadata": {},
     "output_type": "execute_result"
    }
   ],
   "source": [
    "zbcodes_summary.compute()"
   ]
  },
  {
   "cell_type": "code",
   "execution_count": 12,
   "metadata": {},
   "outputs": [
    {
     "data": {
      "application/vnd.jupyter.widget-view+json": {
       "model_id": "7e123e36704d44f98a14ccd38da208de",
       "version_major": 2,
       "version_minor": 0
      },
      "text/plain": [
       "VBox()"
      ]
     },
     "metadata": {},
     "output_type": "display_data"
    },
    {
     "name": "stderr",
     "output_type": "stream",
     "text": [
      "distributed.nanny - WARNING - Restarting worker\n",
      "distributed.nanny - WARNING - Restarting worker\n"
     ]
    }
   ],
   "source": [
    "clds_summary = df_per.groupby('CLDS',as_index=False).agg({'LoanID': 'count'}).persist()\n",
    "progress(clds_summary)"
   ]
  },
  {
   "cell_type": "code",
   "execution_count": 100,
   "metadata": {},
   "outputs": [
    {
     "data": {
      "text/html": [
       "<div>\n",
       "<style scoped>\n",
       "    .dataframe tbody tr th:only-of-type {\n",
       "        vertical-align: middle;\n",
       "    }\n",
       "\n",
       "    .dataframe tbody tr th {\n",
       "        vertical-align: top;\n",
       "    }\n",
       "\n",
       "    .dataframe thead th {\n",
       "        text-align: right;\n",
       "    }\n",
       "</style>\n",
       "<table border=\"1\" class=\"dataframe\">\n",
       "  <thead>\n",
       "    <tr style=\"text-align: right;\">\n",
       "      <th></th>\n",
       "      <th>LoanID</th>\n",
       "      <th>MonthRep</th>\n",
       "      <th>CAUPB</th>\n",
       "      <th>CLDS</th>\n",
       "      <th>ForeclosureDate</th>\n",
       "      <th>DelinquentEvent</th>\n",
       "      <th>ForeclosureEvent</th>\n",
       "    </tr>\n",
       "  </thead>\n",
       "  <tbody>\n",
       "    <tr>\n",
       "      <th>0</th>\n",
       "      <td>100007365142</td>\n",
       "      <td>01/01/2000</td>\n",
       "      <td>&lt;NA&gt;</td>\n",
       "      <td>0.0</td>\n",
       "      <td>&lt;NA&gt;</td>\n",
       "      <td>0.0</td>\n",
       "      <td>0</td>\n",
       "    </tr>\n",
       "    <tr>\n",
       "      <th>1</th>\n",
       "      <td>100007365142</td>\n",
       "      <td>01/01/2001</td>\n",
       "      <td>74319.0</td>\n",
       "      <td>0.0</td>\n",
       "      <td>&lt;NA&gt;</td>\n",
       "      <td>0.0</td>\n",
       "      <td>0</td>\n",
       "    </tr>\n",
       "    <tr>\n",
       "      <th>2</th>\n",
       "      <td>100007365142</td>\n",
       "      <td>01/01/2002</td>\n",
       "      <td>73635.48</td>\n",
       "      <td>0.0</td>\n",
       "      <td>&lt;NA&gt;</td>\n",
       "      <td>0.0</td>\n",
       "      <td>0</td>\n",
       "    </tr>\n",
       "    <tr>\n",
       "      <th>3</th>\n",
       "      <td>100007365142</td>\n",
       "      <td>01/01/2003</td>\n",
       "      <td>72795.41</td>\n",
       "      <td>0.0</td>\n",
       "      <td>&lt;NA&gt;</td>\n",
       "      <td>0.0</td>\n",
       "      <td>0</td>\n",
       "    </tr>\n",
       "    <tr>\n",
       "      <th>4</th>\n",
       "      <td>100007365142</td>\n",
       "      <td>02/01/2000</td>\n",
       "      <td>&lt;NA&gt;</td>\n",
       "      <td>0.0</td>\n",
       "      <td>&lt;NA&gt;</td>\n",
       "      <td>0.0</td>\n",
       "      <td>0</td>\n",
       "    </tr>\n",
       "  </tbody>\n",
       "</table>\n",
       "</div>"
      ],
      "text/plain": [
       "         LoanID    MonthRep     CAUPB  CLDS ForeclosureDate  DelinquentEvent  \\\n",
       "0  100007365142  01/01/2000      <NA>   0.0            <NA>              0.0   \n",
       "1  100007365142  01/01/2001   74319.0   0.0            <NA>              0.0   \n",
       "2  100007365142  01/01/2002  73635.48   0.0            <NA>              0.0   \n",
       "3  100007365142  01/01/2003  72795.41   0.0            <NA>              0.0   \n",
       "4  100007365142  02/01/2000      <NA>   0.0            <NA>              0.0   \n",
       "\n",
       "   ForeclosureEvent  \n",
       "0                 0  \n",
       "1                 0  \n",
       "2                 0  \n",
       "3                 0  \n",
       "4                 0  "
      ]
     },
     "execution_count": 100,
     "metadata": {},
     "output_type": "execute_result"
    }
   ],
   "source": [
    "df_per.head(5)"
   ]
  },
  {
   "cell_type": "code",
   "execution_count": 141,
   "metadata": {},
   "outputs": [],
   "source": [
    "df_per['DelinquentEvent']=0\n",
    "df_per['DelinquentEvent']=df_per['DelinquentEvent'].where(df_per['CLDS']<1,1)\n",
    "df_per['ForeclosureEvent']=0\n",
    "df_per['ForeclosureEvent']=df_per['ForeclosureEvent'].where(df_per['ForeclosureDate'].isnull()== True,1)\n",
    "\n",
    "\n",
    "# df_per.assign(col1=df_per['ZeroBalCode'].where(cond))\n",
    "#df_per.assign('Last_Status2'=lambda x: 'Active' if x['ZeroBalCode']==9 else 'Not Active')\n",
    "# df_per['Last_Status1'] = df_per['ZeroBalCode'].apply(f)\n",
    "#df_per['Last_Status2'] = df_per[df_per['CLDS']==8]"
   ]
  },
  {
   "cell_type": "code",
   "execution_count": 144,
   "metadata": {},
   "outputs": [
    {
     "data": {
      "text/html": [
       "<div>\n",
       "<style scoped>\n",
       "    .dataframe tbody tr th:only-of-type {\n",
       "        vertical-align: middle;\n",
       "    }\n",
       "\n",
       "    .dataframe tbody tr th {\n",
       "        vertical-align: top;\n",
       "    }\n",
       "\n",
       "    .dataframe thead th {\n",
       "        text-align: right;\n",
       "    }\n",
       "</style>\n",
       "<table border=\"1\" class=\"dataframe\">\n",
       "  <thead>\n",
       "    <tr style=\"text-align: right;\">\n",
       "      <th></th>\n",
       "      <th>LoanID</th>\n",
       "      <th>MonthRep</th>\n",
       "      <th>CAUPB</th>\n",
       "      <th>CLDS</th>\n",
       "      <th>ForeclosureDate</th>\n",
       "      <th>DelinquentEvent</th>\n",
       "      <th>ForeclosureEvent</th>\n",
       "    </tr>\n",
       "  </thead>\n",
       "  <tbody>\n",
       "    <tr>\n",
       "      <th>6028</th>\n",
       "      <td>100557946796</td>\n",
       "      <td>12/01/2003</td>\n",
       "      <td>81768.36</td>\n",
       "      <td>-1.0</td>\n",
       "      <td>12/01/2003</td>\n",
       "      <td>0.0</td>\n",
       "      <td>1</td>\n",
       "    </tr>\n",
       "    <tr>\n",
       "      <th>6256</th>\n",
       "      <td>100579898395</td>\n",
       "      <td>08/01/2003</td>\n",
       "      <td>132690.80</td>\n",
       "      <td>-1.0</td>\n",
       "      <td>08/01/2003</td>\n",
       "      <td>0.0</td>\n",
       "      <td>1</td>\n",
       "    </tr>\n",
       "    <tr>\n",
       "      <th>7169</th>\n",
       "      <td>100687390672</td>\n",
       "      <td>12/01/2000</td>\n",
       "      <td>119591.99</td>\n",
       "      <td>-1.0</td>\n",
       "      <td>12/01/2000</td>\n",
       "      <td>0.0</td>\n",
       "      <td>1</td>\n",
       "    </tr>\n",
       "    <tr>\n",
       "      <th>7459</th>\n",
       "      <td>100710809124</td>\n",
       "      <td>03/01/2004</td>\n",
       "      <td>12979.31</td>\n",
       "      <td>-1.0</td>\n",
       "      <td>03/01/2004</td>\n",
       "      <td>0.0</td>\n",
       "      <td>1</td>\n",
       "    </tr>\n",
       "    <tr>\n",
       "      <th>25586</th>\n",
       "      <td>102577665265</td>\n",
       "      <td>02/01/2003</td>\n",
       "      <td>233103.85</td>\n",
       "      <td>-1.0</td>\n",
       "      <td>02/01/2003</td>\n",
       "      <td>0.0</td>\n",
       "      <td>1</td>\n",
       "    </tr>\n",
       "    <tr>\n",
       "      <th>26969</th>\n",
       "      <td>102735376578</td>\n",
       "      <td>06/01/2003</td>\n",
       "      <td>168905.01</td>\n",
       "      <td>-1.0</td>\n",
       "      <td>06/01/2003</td>\n",
       "      <td>0.0</td>\n",
       "      <td>1</td>\n",
       "    </tr>\n",
       "    <tr>\n",
       "      <th>38020</th>\n",
       "      <td>103968872789</td>\n",
       "      <td>05/01/2004</td>\n",
       "      <td>124391.16</td>\n",
       "      <td>-1.0</td>\n",
       "      <td>05/01/2004</td>\n",
       "      <td>0.0</td>\n",
       "      <td>1</td>\n",
       "    </tr>\n",
       "    <tr>\n",
       "      <th>38991</th>\n",
       "      <td>104143486346</td>\n",
       "      <td>03/01/2012</td>\n",
       "      <td>33304.30</td>\n",
       "      <td>-1.0</td>\n",
       "      <td>03/01/2012</td>\n",
       "      <td>0.0</td>\n",
       "      <td>1</td>\n",
       "    </tr>\n",
       "    <tr>\n",
       "      <th>39143</th>\n",
       "      <td>104144116732</td>\n",
       "      <td>11/01/2003</td>\n",
       "      <td>66727.36</td>\n",
       "      <td>-1.0</td>\n",
       "      <td>11/01/2003</td>\n",
       "      <td>0.0</td>\n",
       "      <td>1</td>\n",
       "    </tr>\n",
       "    <tr>\n",
       "      <th>45564</th>\n",
       "      <td>104928430484</td>\n",
       "      <td>12/01/2004</td>\n",
       "      <td>30710.53</td>\n",
       "      <td>-1.0</td>\n",
       "      <td>12/01/2004</td>\n",
       "      <td>0.0</td>\n",
       "      <td>1</td>\n",
       "    </tr>\n",
       "  </tbody>\n",
       "</table>\n",
       "</div>"
      ],
      "text/plain": [
       "             LoanID    MonthRep      CAUPB  CLDS ForeclosureDate  \\\n",
       "6028   100557946796  12/01/2003   81768.36  -1.0      12/01/2003   \n",
       "6256   100579898395  08/01/2003  132690.80  -1.0      08/01/2003   \n",
       "7169   100687390672  12/01/2000  119591.99  -1.0      12/01/2000   \n",
       "7459   100710809124  03/01/2004   12979.31  -1.0      03/01/2004   \n",
       "25586  102577665265  02/01/2003  233103.85  -1.0      02/01/2003   \n",
       "26969  102735376578  06/01/2003  168905.01  -1.0      06/01/2003   \n",
       "38020  103968872789  05/01/2004  124391.16  -1.0      05/01/2004   \n",
       "38991  104143486346  03/01/2012   33304.30  -1.0      03/01/2012   \n",
       "39143  104144116732  11/01/2003   66727.36  -1.0      11/01/2003   \n",
       "45564  104928430484  12/01/2004   30710.53  -1.0      12/01/2004   \n",
       "\n",
       "       DelinquentEvent ForeclosureEvent  \n",
       "6028               0.0                1  \n",
       "6256               0.0                1  \n",
       "7169               0.0                1  \n",
       "7459               0.0                1  \n",
       "25586              0.0                1  \n",
       "26969              0.0                1  \n",
       "38020              0.0                1  \n",
       "38991              0.0                1  \n",
       "39143              0.0                1  \n",
       "45564              0.0                1  "
      ]
     },
     "execution_count": 144,
     "metadata": {},
     "output_type": "execute_result"
    }
   ],
   "source": [
    "# is_delinquent= df_per['DelinquentEvent']==1\n",
    "# df_per[is_delinquent].head(10)\n",
    "\n",
    "df_per[df_per['CLDS']>0].head(10)\n",
    "df_per[df_per['ForeclosureDate'].notnull()].head(10)"
   ]
  },
  {
   "cell_type": "code",
   "execution_count": 110,
   "metadata": {},
   "outputs": [
    {
     "data": {
      "text/plain": [
       "LoanID                int64\n",
       "MonthRep             object\n",
       "CAUPB               float64\n",
       "CLDS                float64\n",
       "ForeclosureDate      object\n",
       "DelinquentEvent     float64\n",
       "ForeclosureEvent      int64\n",
       "dtype: object"
      ]
     },
     "execution_count": 110,
     "metadata": {},
     "output_type": "execute_result"
    }
   ],
   "source": [
    "df_per.dtypes"
   ]
  },
  {
   "cell_type": "code",
   "execution_count": 85,
   "metadata": {},
   "outputs": [
    {
     "ename": "KeyError",
     "evalue": "'ZeroBalCode'",
     "output_type": "error",
     "traceback": [
      "\u001b[0;31m---------------------------------------------------------------------------\u001b[0m",
      "\u001b[0;31mKeyError\u001b[0m                                  Traceback (most recent call last)",
      "\u001b[0;32m<ipython-input-85-46fab188a6e6>\u001b[0m in \u001b[0;36m<module>\u001b[0;34m\u001b[0m\n\u001b[0;32m----> 1\u001b[0;31m \u001b[0mdf_per\u001b[0m\u001b[0;34m[\u001b[0m\u001b[0;34m[\u001b[0m\u001b[0;34m'ZeroBalCode'\u001b[0m\u001b[0;34m,\u001b[0m \u001b[0;34m'Last_Status1'\u001b[0m\u001b[0;34m,\u001b[0m\u001b[0;34m'Last_Status2'\u001b[0m\u001b[0;34m]\u001b[0m\u001b[0;34m]\u001b[0m\u001b[0;34m.\u001b[0m\u001b[0mtail\u001b[0m\u001b[0;34m(\u001b[0m\u001b[0;34m)\u001b[0m\u001b[0;34m\u001b[0m\u001b[0;34m\u001b[0m\u001b[0m\n\u001b[0m",
      "\u001b[0;32m/opt/conda/envs/rapids-0.17/lib/python3.7/site-packages/dask/dataframe/core.py\u001b[0m in \u001b[0;36m__getitem__\u001b[0;34m(self, key)\u001b[0m\n\u001b[1;32m   3659\u001b[0m         ):\n\u001b[1;32m   3660\u001b[0m             \u001b[0;31m# error is raised from pandas\u001b[0m\u001b[0;34m\u001b[0m\u001b[0;34m\u001b[0m\u001b[0;34m\u001b[0m\u001b[0m\n\u001b[0;32m-> 3661\u001b[0;31m             \u001b[0mmeta\u001b[0m \u001b[0;34m=\u001b[0m \u001b[0mself\u001b[0m\u001b[0;34m.\u001b[0m\u001b[0m_meta\u001b[0m\u001b[0;34m[\u001b[0m\u001b[0m_extract_meta\u001b[0m\u001b[0;34m(\u001b[0m\u001b[0mkey\u001b[0m\u001b[0;34m)\u001b[0m\u001b[0;34m]\u001b[0m\u001b[0;34m\u001b[0m\u001b[0;34m\u001b[0m\u001b[0m\n\u001b[0m\u001b[1;32m   3662\u001b[0m \u001b[0;34m\u001b[0m\u001b[0m\n\u001b[1;32m   3663\u001b[0m             \u001b[0mdsk\u001b[0m \u001b[0;34m=\u001b[0m \u001b[0mpartitionwise_graph\u001b[0m\u001b[0;34m(\u001b[0m\u001b[0moperator\u001b[0m\u001b[0;34m.\u001b[0m\u001b[0mgetitem\u001b[0m\u001b[0;34m,\u001b[0m \u001b[0mname\u001b[0m\u001b[0;34m,\u001b[0m \u001b[0mself\u001b[0m\u001b[0;34m,\u001b[0m \u001b[0mkey\u001b[0m\u001b[0;34m)\u001b[0m\u001b[0;34m\u001b[0m\u001b[0;34m\u001b[0m\u001b[0m\n",
      "\u001b[0;32m/opt/conda/envs/rapids-0.17/lib/python3.7/contextlib.py\u001b[0m in \u001b[0;36minner\u001b[0;34m(*args, **kwds)\u001b[0m\n\u001b[1;32m     72\u001b[0m         \u001b[0;32mdef\u001b[0m \u001b[0minner\u001b[0m\u001b[0;34m(\u001b[0m\u001b[0;34m*\u001b[0m\u001b[0margs\u001b[0m\u001b[0;34m,\u001b[0m \u001b[0;34m**\u001b[0m\u001b[0mkwds\u001b[0m\u001b[0;34m)\u001b[0m\u001b[0;34m:\u001b[0m\u001b[0;34m\u001b[0m\u001b[0;34m\u001b[0m\u001b[0m\n\u001b[1;32m     73\u001b[0m             \u001b[0;32mwith\u001b[0m \u001b[0mself\u001b[0m\u001b[0;34m.\u001b[0m\u001b[0m_recreate_cm\u001b[0m\u001b[0;34m(\u001b[0m\u001b[0;34m)\u001b[0m\u001b[0;34m:\u001b[0m\u001b[0;34m\u001b[0m\u001b[0;34m\u001b[0m\u001b[0m\n\u001b[0;32m---> 74\u001b[0;31m                 \u001b[0;32mreturn\u001b[0m \u001b[0mfunc\u001b[0m\u001b[0;34m(\u001b[0m\u001b[0;34m*\u001b[0m\u001b[0margs\u001b[0m\u001b[0;34m,\u001b[0m \u001b[0;34m**\u001b[0m\u001b[0mkwds\u001b[0m\u001b[0;34m)\u001b[0m\u001b[0;34m\u001b[0m\u001b[0;34m\u001b[0m\u001b[0m\n\u001b[0m\u001b[1;32m     75\u001b[0m         \u001b[0;32mreturn\u001b[0m \u001b[0minner\u001b[0m\u001b[0;34m\u001b[0m\u001b[0;34m\u001b[0m\u001b[0m\n\u001b[1;32m     76\u001b[0m \u001b[0;34m\u001b[0m\u001b[0m\n",
      "\u001b[0;32m/opt/conda/envs/rapids-0.17/lib/python3.7/site-packages/cudf/core/dataframe.py\u001b[0m in \u001b[0;36m__getitem__\u001b[0;34m(self, arg)\u001b[0m\n\u001b[1;32m    681\u001b[0m                 \u001b[0;32mreturn\u001b[0m \u001b[0mself\u001b[0m\u001b[0;34m.\u001b[0m\u001b[0m_apply_boolean_mask\u001b[0m\u001b[0;34m(\u001b[0m\u001b[0mmask\u001b[0m\u001b[0;34m)\u001b[0m\u001b[0;34m\u001b[0m\u001b[0;34m\u001b[0m\u001b[0m\n\u001b[1;32m    682\u001b[0m             \u001b[0;32melse\u001b[0m\u001b[0;34m:\u001b[0m\u001b[0;34m\u001b[0m\u001b[0;34m\u001b[0m\u001b[0m\n\u001b[0;32m--> 683\u001b[0;31m                 \u001b[0;32mreturn\u001b[0m \u001b[0mself\u001b[0m\u001b[0;34m.\u001b[0m\u001b[0m_get_columns_by_label\u001b[0m\u001b[0;34m(\u001b[0m\u001b[0mmask\u001b[0m\u001b[0;34m)\u001b[0m\u001b[0;34m\u001b[0m\u001b[0;34m\u001b[0m\u001b[0m\n\u001b[0m\u001b[1;32m    684\u001b[0m         \u001b[0;32melif\u001b[0m \u001b[0misinstance\u001b[0m\u001b[0;34m(\u001b[0m\u001b[0marg\u001b[0m\u001b[0;34m,\u001b[0m \u001b[0mDataFrame\u001b[0m\u001b[0;34m)\u001b[0m\u001b[0;34m:\u001b[0m\u001b[0;34m\u001b[0m\u001b[0;34m\u001b[0m\u001b[0m\n\u001b[1;32m    685\u001b[0m             \u001b[0;32mreturn\u001b[0m \u001b[0mself\u001b[0m\u001b[0;34m.\u001b[0m\u001b[0mwhere\u001b[0m\u001b[0;34m(\u001b[0m\u001b[0marg\u001b[0m\u001b[0;34m)\u001b[0m\u001b[0;34m\u001b[0m\u001b[0;34m\u001b[0m\u001b[0m\n",
      "\u001b[0;32m/opt/conda/envs/rapids-0.17/lib/python3.7/site-packages/cudf/core/frame.py\u001b[0m in \u001b[0;36m_get_columns_by_label\u001b[0;34m(self, labels, downcast)\u001b[0m\n\u001b[1;32m    481\u001b[0m         \u001b[0mIf\u001b[0m \u001b[0mdowncast\u001b[0m \u001b[0;32mis\u001b[0m \u001b[0;32mTrue\u001b[0m\u001b[0;34m,\u001b[0m \u001b[0;32mtry\u001b[0m \u001b[0;32mand\u001b[0m \u001b[0mdowncast\u001b[0m \u001b[0;32mfrom\u001b[0m \u001b[0ma\u001b[0m \u001b[0mDataFrame\u001b[0m \u001b[0mto\u001b[0m \u001b[0ma\u001b[0m \u001b[0mSeries\u001b[0m\u001b[0;34m\u001b[0m\u001b[0;34m\u001b[0m\u001b[0m\n\u001b[1;32m    482\u001b[0m         \"\"\"\n\u001b[0;32m--> 483\u001b[0;31m         \u001b[0mnew_data\u001b[0m \u001b[0;34m=\u001b[0m \u001b[0mself\u001b[0m\u001b[0;34m.\u001b[0m\u001b[0m_data\u001b[0m\u001b[0;34m.\u001b[0m\u001b[0mselect_by_label\u001b[0m\u001b[0;34m(\u001b[0m\u001b[0mlabels\u001b[0m\u001b[0;34m)\u001b[0m\u001b[0;34m\u001b[0m\u001b[0;34m\u001b[0m\u001b[0m\n\u001b[0m\u001b[1;32m    484\u001b[0m         \u001b[0;32mif\u001b[0m \u001b[0mdowncast\u001b[0m\u001b[0;34m:\u001b[0m\u001b[0;34m\u001b[0m\u001b[0;34m\u001b[0m\u001b[0m\n\u001b[1;32m    485\u001b[0m             \u001b[0;32mif\u001b[0m \u001b[0mis_scalar\u001b[0m\u001b[0;34m(\u001b[0m\u001b[0mlabels\u001b[0m\u001b[0;34m)\u001b[0m\u001b[0;34m:\u001b[0m\u001b[0;34m\u001b[0m\u001b[0;34m\u001b[0m\u001b[0m\n",
      "\u001b[0;32m/opt/conda/envs/rapids-0.17/lib/python3.7/site-packages/cudf/core/column_accessor.py\u001b[0m in \u001b[0;36mselect_by_label\u001b[0;34m(self, key)\u001b[0m\n\u001b[1;32m    212\u001b[0m             \u001b[0;32mreturn\u001b[0m \u001b[0mself\u001b[0m\u001b[0;34m.\u001b[0m\u001b[0m_select_by_label_slice\u001b[0m\u001b[0;34m(\u001b[0m\u001b[0mkey\u001b[0m\u001b[0;34m)\u001b[0m\u001b[0;34m\u001b[0m\u001b[0;34m\u001b[0m\u001b[0m\n\u001b[1;32m    213\u001b[0m         \u001b[0;32melif\u001b[0m \u001b[0mpd\u001b[0m\u001b[0;34m.\u001b[0m\u001b[0mapi\u001b[0m\u001b[0;34m.\u001b[0m\u001b[0mtypes\u001b[0m\u001b[0;34m.\u001b[0m\u001b[0mis_list_like\u001b[0m\u001b[0;34m(\u001b[0m\u001b[0mkey\u001b[0m\u001b[0;34m)\u001b[0m \u001b[0;32mand\u001b[0m \u001b[0;32mnot\u001b[0m \u001b[0misinstance\u001b[0m\u001b[0;34m(\u001b[0m\u001b[0mkey\u001b[0m\u001b[0;34m,\u001b[0m \u001b[0mtuple\u001b[0m\u001b[0;34m)\u001b[0m\u001b[0;34m:\u001b[0m\u001b[0;34m\u001b[0m\u001b[0;34m\u001b[0m\u001b[0m\n\u001b[0;32m--> 214\u001b[0;31m             \u001b[0;32mreturn\u001b[0m \u001b[0mself\u001b[0m\u001b[0;34m.\u001b[0m\u001b[0m_select_by_label_list_like\u001b[0m\u001b[0;34m(\u001b[0m\u001b[0mkey\u001b[0m\u001b[0;34m)\u001b[0m\u001b[0;34m\u001b[0m\u001b[0;34m\u001b[0m\u001b[0m\n\u001b[0m\u001b[1;32m    215\u001b[0m         \u001b[0;32melse\u001b[0m\u001b[0;34m:\u001b[0m\u001b[0;34m\u001b[0m\u001b[0;34m\u001b[0m\u001b[0m\n\u001b[1;32m    216\u001b[0m             \u001b[0;32mif\u001b[0m \u001b[0misinstance\u001b[0m\u001b[0;34m(\u001b[0m\u001b[0mkey\u001b[0m\u001b[0;34m,\u001b[0m \u001b[0mtuple\u001b[0m\u001b[0;34m)\u001b[0m\u001b[0;34m:\u001b[0m\u001b[0;34m\u001b[0m\u001b[0;34m\u001b[0m\u001b[0m\n",
      "\u001b[0;32m/opt/conda/envs/rapids-0.17/lib/python3.7/site-packages/cudf/core/column_accessor.py\u001b[0m in \u001b[0;36m_select_by_label_list_like\u001b[0;34m(self, key)\u001b[0m\n\u001b[1;32m    259\u001b[0m     \u001b[0;32mdef\u001b[0m \u001b[0m_select_by_label_list_like\u001b[0m\u001b[0;34m(\u001b[0m\u001b[0mself\u001b[0m\u001b[0;34m,\u001b[0m \u001b[0mkey\u001b[0m\u001b[0;34m)\u001b[0m\u001b[0;34m:\u001b[0m\u001b[0;34m\u001b[0m\u001b[0;34m\u001b[0m\u001b[0m\n\u001b[1;32m    260\u001b[0m         return self.__class__(\n\u001b[0;32m--> 261\u001b[0;31m             \u001b[0mto_flat_dict\u001b[0m\u001b[0;34m(\u001b[0m\u001b[0;34m{\u001b[0m\u001b[0mk\u001b[0m\u001b[0;34m:\u001b[0m \u001b[0mself\u001b[0m\u001b[0;34m.\u001b[0m\u001b[0m_grouped_data\u001b[0m\u001b[0;34m[\u001b[0m\u001b[0mk\u001b[0m\u001b[0;34m]\u001b[0m \u001b[0;32mfor\u001b[0m \u001b[0mk\u001b[0m \u001b[0;32min\u001b[0m \u001b[0mkey\u001b[0m\u001b[0;34m}\u001b[0m\u001b[0;34m)\u001b[0m\u001b[0;34m,\u001b[0m\u001b[0;34m\u001b[0m\u001b[0;34m\u001b[0m\u001b[0m\n\u001b[0m\u001b[1;32m    262\u001b[0m             \u001b[0mmultiindex\u001b[0m\u001b[0;34m=\u001b[0m\u001b[0mself\u001b[0m\u001b[0;34m.\u001b[0m\u001b[0mmultiindex\u001b[0m\u001b[0;34m,\u001b[0m\u001b[0;34m\u001b[0m\u001b[0;34m\u001b[0m\u001b[0m\n\u001b[1;32m    263\u001b[0m             \u001b[0mlevel_names\u001b[0m\u001b[0;34m=\u001b[0m\u001b[0mself\u001b[0m\u001b[0;34m.\u001b[0m\u001b[0mlevel_names\u001b[0m\u001b[0;34m,\u001b[0m\u001b[0;34m\u001b[0m\u001b[0;34m\u001b[0m\u001b[0m\n",
      "\u001b[0;32m/opt/conda/envs/rapids-0.17/lib/python3.7/site-packages/cudf/core/column_accessor.py\u001b[0m in \u001b[0;36m<dictcomp>\u001b[0;34m(.0)\u001b[0m\n\u001b[1;32m    259\u001b[0m     \u001b[0;32mdef\u001b[0m \u001b[0m_select_by_label_list_like\u001b[0m\u001b[0;34m(\u001b[0m\u001b[0mself\u001b[0m\u001b[0;34m,\u001b[0m \u001b[0mkey\u001b[0m\u001b[0;34m)\u001b[0m\u001b[0;34m:\u001b[0m\u001b[0;34m\u001b[0m\u001b[0;34m\u001b[0m\u001b[0m\n\u001b[1;32m    260\u001b[0m         return self.__class__(\n\u001b[0;32m--> 261\u001b[0;31m             \u001b[0mto_flat_dict\u001b[0m\u001b[0;34m(\u001b[0m\u001b[0;34m{\u001b[0m\u001b[0mk\u001b[0m\u001b[0;34m:\u001b[0m \u001b[0mself\u001b[0m\u001b[0;34m.\u001b[0m\u001b[0m_grouped_data\u001b[0m\u001b[0;34m[\u001b[0m\u001b[0mk\u001b[0m\u001b[0;34m]\u001b[0m \u001b[0;32mfor\u001b[0m \u001b[0mk\u001b[0m \u001b[0;32min\u001b[0m \u001b[0mkey\u001b[0m\u001b[0;34m}\u001b[0m\u001b[0;34m)\u001b[0m\u001b[0;34m,\u001b[0m\u001b[0;34m\u001b[0m\u001b[0;34m\u001b[0m\u001b[0m\n\u001b[0m\u001b[1;32m    262\u001b[0m             \u001b[0mmultiindex\u001b[0m\u001b[0;34m=\u001b[0m\u001b[0mself\u001b[0m\u001b[0;34m.\u001b[0m\u001b[0mmultiindex\u001b[0m\u001b[0;34m,\u001b[0m\u001b[0;34m\u001b[0m\u001b[0;34m\u001b[0m\u001b[0m\n\u001b[1;32m    263\u001b[0m             \u001b[0mlevel_names\u001b[0m\u001b[0;34m=\u001b[0m\u001b[0mself\u001b[0m\u001b[0;34m.\u001b[0m\u001b[0mlevel_names\u001b[0m\u001b[0;34m,\u001b[0m\u001b[0;34m\u001b[0m\u001b[0;34m\u001b[0m\u001b[0m\n",
      "\u001b[0;31mKeyError\u001b[0m: 'ZeroBalCode'"
     ]
    }
   ],
   "source": [
    "df_per[['ZeroBalCode', 'Last_Status1','Last_Status2']].tail()"
   ]
  },
  {
   "cell_type": "code",
   "execution_count": 36,
   "metadata": {},
   "outputs": [
    {
     "data": {
      "text/plain": [
       "0    Not Active\n",
       "1    Not Active\n",
       "2    Not Active\n",
       "3    Not Active\n",
       "4    Not Active\n",
       "Name: Last_Status1, dtype: object"
      ]
     },
     "execution_count": 36,
     "metadata": {},
     "output_type": "execute_result"
    }
   ],
   "source": [
    "df_per['Last_Status1'].head()"
   ]
  },
  {
   "cell_type": "code",
   "execution_count": 25,
   "metadata": {},
   "outputs": [
    {
     "data": {
      "text/plain": [
       "0    <NA>\n",
       "1    <NA>\n",
       "2    <NA>\n",
       "3    <NA>\n",
       "4    <NA>\n",
       "Name: ZeroBalCode, dtype: float64"
      ]
     },
     "execution_count": 25,
     "metadata": {},
     "output_type": "execute_result"
    }
   ],
   "source": [
    "df_per['ZeroBalCode'].head()"
   ]
  },
  {
   "cell_type": "code",
   "execution_count": 26,
   "metadata": {},
   "outputs": [
    {
     "data": {
      "text/plain": [
       "0   NaN\n",
       "1   NaN\n",
       "2   NaN\n",
       "3   NaN\n",
       "4   NaN\n",
       "Name: col1, dtype: float64"
      ]
     },
     "execution_count": 26,
     "metadata": {},
     "output_type": "execute_result"
    }
   ],
   "source": [
    "ddf1.col1.head()"
   ]
  },
  {
   "cell_type": "code",
   "execution_count": 10,
   "metadata": {},
   "outputs": [
    {
     "ename": "KeyError",
     "evalue": "'CAUPB $M'",
     "output_type": "error",
     "traceback": [
      "\u001b[0;31m---------------------------------------------------------------------------\u001b[0m",
      "\u001b[0;31mKeyError\u001b[0m                                  Traceback (most recent call last)",
      "\u001b[0;32m<ipython-input-10-39dc8c7a9e2d>\u001b[0m in \u001b[0;36m<module>\u001b[0;34m\u001b[0m\n\u001b[0;32m----> 1\u001b[0;31m \u001b[0mdf_per_summary\u001b[0m \u001b[0;34m=\u001b[0m \u001b[0mdf_per\u001b[0m\u001b[0;34m.\u001b[0m\u001b[0mgroupby\u001b[0m\u001b[0;34m(\u001b[0m\u001b[0;34m'MonthRep'\u001b[0m\u001b[0;34m,\u001b[0m\u001b[0mas_index\u001b[0m\u001b[0;34m=\u001b[0m\u001b[0;32mFalse\u001b[0m\u001b[0;34m)\u001b[0m\u001b[0;34m.\u001b[0m\u001b[0magg\u001b[0m\u001b[0;34m(\u001b[0m\u001b[0;34m{\u001b[0m\u001b[0;34m'CAUPB $M'\u001b[0m\u001b[0;34m:\u001b[0m \u001b[0;34m'sum'\u001b[0m\u001b[0;34m,\u001b[0m\u001b[0;34m'LoanID'\u001b[0m\u001b[0;34m:\u001b[0m \u001b[0;34m'count'\u001b[0m\u001b[0;34m}\u001b[0m\u001b[0;34m)\u001b[0m\u001b[0;34m.\u001b[0m\u001b[0mpersist\u001b[0m\u001b[0;34m(\u001b[0m\u001b[0;34m)\u001b[0m\u001b[0;34m\u001b[0m\u001b[0;34m\u001b[0m\u001b[0m\n\u001b[0m\u001b[1;32m      2\u001b[0m \u001b[0mprogress\u001b[0m\u001b[0;34m(\u001b[0m\u001b[0mdf_per_summary\u001b[0m\u001b[0;34m)\u001b[0m\u001b[0;34m\u001b[0m\u001b[0;34m\u001b[0m\u001b[0m\n",
      "\u001b[0;32m/opt/conda/envs/rapids-0.17/lib/python3.7/site-packages/dask/dataframe/groupby.py\u001b[0m in \u001b[0;36magg\u001b[0;34m(self, arg, split_every, split_out)\u001b[0m\n\u001b[1;32m   1831\u001b[0m     \u001b[0;34m@\u001b[0m\u001b[0mderived_from\u001b[0m\u001b[0;34m(\u001b[0m\u001b[0mpd\u001b[0m\u001b[0;34m.\u001b[0m\u001b[0mcore\u001b[0m\u001b[0;34m.\u001b[0m\u001b[0mgroupby\u001b[0m\u001b[0;34m.\u001b[0m\u001b[0mDataFrameGroupBy\u001b[0m\u001b[0;34m)\u001b[0m\u001b[0;34m\u001b[0m\u001b[0;34m\u001b[0m\u001b[0m\n\u001b[1;32m   1832\u001b[0m     \u001b[0;32mdef\u001b[0m \u001b[0magg\u001b[0m\u001b[0;34m(\u001b[0m\u001b[0mself\u001b[0m\u001b[0;34m,\u001b[0m \u001b[0marg\u001b[0m\u001b[0;34m,\u001b[0m \u001b[0msplit_every\u001b[0m\u001b[0;34m=\u001b[0m\u001b[0;32mNone\u001b[0m\u001b[0;34m,\u001b[0m \u001b[0msplit_out\u001b[0m\u001b[0;34m=\u001b[0m\u001b[0;36m1\u001b[0m\u001b[0;34m)\u001b[0m\u001b[0;34m:\u001b[0m\u001b[0;34m\u001b[0m\u001b[0;34m\u001b[0m\u001b[0m\n\u001b[0;32m-> 1833\u001b[0;31m         \u001b[0;32mreturn\u001b[0m \u001b[0mself\u001b[0m\u001b[0;34m.\u001b[0m\u001b[0maggregate\u001b[0m\u001b[0;34m(\u001b[0m\u001b[0marg\u001b[0m\u001b[0;34m,\u001b[0m \u001b[0msplit_every\u001b[0m\u001b[0;34m=\u001b[0m\u001b[0msplit_every\u001b[0m\u001b[0;34m,\u001b[0m \u001b[0msplit_out\u001b[0m\u001b[0;34m=\u001b[0m\u001b[0msplit_out\u001b[0m\u001b[0;34m)\u001b[0m\u001b[0;34m\u001b[0m\u001b[0;34m\u001b[0m\u001b[0m\n\u001b[0m\u001b[1;32m   1834\u001b[0m \u001b[0;34m\u001b[0m\u001b[0m\n\u001b[1;32m   1835\u001b[0m \u001b[0;34m\u001b[0m\u001b[0m\n",
      "\u001b[0;32m/opt/conda/envs/rapids-0.17/lib/python3.7/site-packages/dask_cudf/groupby.py\u001b[0m in \u001b[0;36maggregate\u001b[0;34m(self, arg, split_every, split_out)\u001b[0m\n\u001b[1;32m     43\u001b[0m                 \u001b[0msep\u001b[0m\u001b[0;34m=\u001b[0m\u001b[0mself\u001b[0m\u001b[0;34m.\u001b[0m\u001b[0msep\u001b[0m\u001b[0;34m,\u001b[0m\u001b[0;34m\u001b[0m\u001b[0;34m\u001b[0m\u001b[0m\n\u001b[1;32m     44\u001b[0m                 \u001b[0msort\u001b[0m\u001b[0;34m=\u001b[0m\u001b[0mself\u001b[0m\u001b[0;34m.\u001b[0m\u001b[0msort\u001b[0m\u001b[0;34m,\u001b[0m\u001b[0;34m\u001b[0m\u001b[0;34m\u001b[0m\u001b[0m\n\u001b[0;32m---> 45\u001b[0;31m                 \u001b[0mas_index\u001b[0m\u001b[0;34m=\u001b[0m\u001b[0mself\u001b[0m\u001b[0;34m.\u001b[0m\u001b[0mas_index\u001b[0m\u001b[0;34m,\u001b[0m\u001b[0;34m\u001b[0m\u001b[0;34m\u001b[0m\u001b[0m\n\u001b[0m\u001b[1;32m     46\u001b[0m             )\n\u001b[1;32m     47\u001b[0m \u001b[0;34m\u001b[0m\u001b[0m\n",
      "\u001b[0;32m/opt/conda/envs/rapids-0.17/lib/python3.7/site-packages/dask_cudf/groupby.py\u001b[0m in \u001b[0;36mgroupby_agg\u001b[0;34m(ddf, gb_cols, aggs_in, split_every, split_out, dropna, sep, sort, as_index)\u001b[0m\n\u001b[1;32m    176\u001b[0m         \u001b[0;32mfor\u001b[0m \u001b[0mcol\u001b[0m \u001b[0;32min\u001b[0m \u001b[0maggs\u001b[0m\u001b[0;34m:\u001b[0m\u001b[0;34m\u001b[0m\u001b[0;34m\u001b[0m\u001b[0m\n\u001b[1;32m    177\u001b[0m             \u001b[0m_aggs\u001b[0m\u001b[0;34m[\u001b[0m\u001b[0mcol\u001b[0m\u001b[0;34m]\u001b[0m \u001b[0;34m=\u001b[0m \u001b[0m_aggs\u001b[0m\u001b[0;34m[\u001b[0m\u001b[0mcol\u001b[0m\u001b[0;34m]\u001b[0m\u001b[0;34m[\u001b[0m\u001b[0;36m0\u001b[0m\u001b[0;34m]\u001b[0m\u001b[0;34m\u001b[0m\u001b[0;34m\u001b[0m\u001b[0m\n\u001b[0;32m--> 178\u001b[0;31m     \u001b[0m_meta\u001b[0m \u001b[0;34m=\u001b[0m \u001b[0mddf\u001b[0m\u001b[0;34m.\u001b[0m\u001b[0m_meta\u001b[0m\u001b[0;34m.\u001b[0m\u001b[0mgroupby\u001b[0m\u001b[0;34m(\u001b[0m\u001b[0mgb_cols\u001b[0m\u001b[0;34m,\u001b[0m \u001b[0mas_index\u001b[0m\u001b[0;34m=\u001b[0m\u001b[0mas_index\u001b[0m\u001b[0;34m)\u001b[0m\u001b[0;34m.\u001b[0m\u001b[0magg\u001b[0m\u001b[0;34m(\u001b[0m\u001b[0m_aggs\u001b[0m\u001b[0;34m)\u001b[0m\u001b[0;34m\u001b[0m\u001b[0;34m\u001b[0m\u001b[0m\n\u001b[0m\u001b[1;32m    179\u001b[0m     \u001b[0;32mfor\u001b[0m \u001b[0ms\u001b[0m \u001b[0;32min\u001b[0m \u001b[0mrange\u001b[0m\u001b[0;34m(\u001b[0m\u001b[0msplit_out\u001b[0m\u001b[0;34m)\u001b[0m\u001b[0;34m:\u001b[0m\u001b[0;34m\u001b[0m\u001b[0;34m\u001b[0m\u001b[0m\n\u001b[1;32m    180\u001b[0m         dsk[(gb_agg_name, s)] = (\n",
      "\u001b[0;32m/opt/conda/envs/rapids-0.17/lib/python3.7/contextlib.py\u001b[0m in \u001b[0;36minner\u001b[0;34m(*args, **kwds)\u001b[0m\n\u001b[1;32m     72\u001b[0m         \u001b[0;32mdef\u001b[0m \u001b[0minner\u001b[0m\u001b[0;34m(\u001b[0m\u001b[0;34m*\u001b[0m\u001b[0margs\u001b[0m\u001b[0;34m,\u001b[0m \u001b[0;34m**\u001b[0m\u001b[0mkwds\u001b[0m\u001b[0;34m)\u001b[0m\u001b[0;34m:\u001b[0m\u001b[0;34m\u001b[0m\u001b[0;34m\u001b[0m\u001b[0m\n\u001b[1;32m     73\u001b[0m             \u001b[0;32mwith\u001b[0m \u001b[0mself\u001b[0m\u001b[0;34m.\u001b[0m\u001b[0m_recreate_cm\u001b[0m\u001b[0;34m(\u001b[0m\u001b[0;34m)\u001b[0m\u001b[0;34m:\u001b[0m\u001b[0;34m\u001b[0m\u001b[0;34m\u001b[0m\u001b[0m\n\u001b[0;32m---> 74\u001b[0;31m                 \u001b[0;32mreturn\u001b[0m \u001b[0mfunc\u001b[0m\u001b[0;34m(\u001b[0m\u001b[0;34m*\u001b[0m\u001b[0margs\u001b[0m\u001b[0;34m,\u001b[0m \u001b[0;34m**\u001b[0m\u001b[0mkwds\u001b[0m\u001b[0;34m)\u001b[0m\u001b[0;34m\u001b[0m\u001b[0;34m\u001b[0m\u001b[0m\n\u001b[0m\u001b[1;32m     75\u001b[0m         \u001b[0;32mreturn\u001b[0m \u001b[0minner\u001b[0m\u001b[0;34m\u001b[0m\u001b[0;34m\u001b[0m\u001b[0m\n\u001b[1;32m     76\u001b[0m \u001b[0;34m\u001b[0m\u001b[0m\n",
      "\u001b[0;32m/opt/conda/envs/rapids-0.17/lib/python3.7/site-packages/cudf/core/groupby/groupby.py\u001b[0m in \u001b[0;36magg\u001b[0;34m(self, func)\u001b[0m\n\u001b[1;32m    165\u001b[0m         \u001b[0mnormalized_aggs\u001b[0m \u001b[0;34m=\u001b[0m \u001b[0mself\u001b[0m\u001b[0;34m.\u001b[0m\u001b[0m_normalize_aggs\u001b[0m\u001b[0;34m(\u001b[0m\u001b[0mfunc\u001b[0m\u001b[0;34m)\u001b[0m\u001b[0;34m\u001b[0m\u001b[0;34m\u001b[0m\u001b[0m\n\u001b[1;32m    166\u001b[0m \u001b[0;34m\u001b[0m\u001b[0m\n\u001b[0;32m--> 167\u001b[0;31m         \u001b[0mresult\u001b[0m \u001b[0;34m=\u001b[0m \u001b[0mself\u001b[0m\u001b[0;34m.\u001b[0m\u001b[0m_groupby\u001b[0m\u001b[0;34m.\u001b[0m\u001b[0maggregate\u001b[0m\u001b[0;34m(\u001b[0m\u001b[0mself\u001b[0m\u001b[0;34m.\u001b[0m\u001b[0mobj\u001b[0m\u001b[0;34m,\u001b[0m \u001b[0mnormalized_aggs\u001b[0m\u001b[0;34m)\u001b[0m\u001b[0;34m\u001b[0m\u001b[0;34m\u001b[0m\u001b[0m\n\u001b[0m\u001b[1;32m    168\u001b[0m \u001b[0;34m\u001b[0m\u001b[0m\n\u001b[1;32m    169\u001b[0m         \u001b[0mresult\u001b[0m \u001b[0;34m=\u001b[0m \u001b[0mcudf\u001b[0m\u001b[0;34m.\u001b[0m\u001b[0mDataFrame\u001b[0m\u001b[0;34m.\u001b[0m\u001b[0m_from_table\u001b[0m\u001b[0;34m(\u001b[0m\u001b[0mresult\u001b[0m\u001b[0;34m)\u001b[0m\u001b[0;34m\u001b[0m\u001b[0;34m\u001b[0m\u001b[0m\n",
      "\u001b[0;32mcudf/_lib/groupby.pyx\u001b[0m in \u001b[0;36mcudf._lib.groupby.GroupBy.aggregate\u001b[0;34m()\u001b[0m\n",
      "\u001b[0;32mcudf/_lib/groupby.pyx\u001b[0m in \u001b[0;36mcudf._lib.groupby._drop_unsupported_aggs\u001b[0;34m()\u001b[0m\n",
      "\u001b[0;32m/opt/conda/envs/rapids-0.17/lib/python3.7/site-packages/cudf/core/column_accessor.py\u001b[0m in \u001b[0;36m__getitem__\u001b[0;34m(self, key)\u001b[0m\n\u001b[1;32m     46\u001b[0m \u001b[0;34m\u001b[0m\u001b[0m\n\u001b[1;32m     47\u001b[0m     \u001b[0;32mdef\u001b[0m \u001b[0m__getitem__\u001b[0m\u001b[0;34m(\u001b[0m\u001b[0mself\u001b[0m\u001b[0;34m,\u001b[0m \u001b[0mkey\u001b[0m\u001b[0;34m)\u001b[0m\u001b[0;34m:\u001b[0m\u001b[0;34m\u001b[0m\u001b[0;34m\u001b[0m\u001b[0m\n\u001b[0;32m---> 48\u001b[0;31m         \u001b[0;32mreturn\u001b[0m \u001b[0mself\u001b[0m\u001b[0;34m.\u001b[0m\u001b[0m_data\u001b[0m\u001b[0;34m[\u001b[0m\u001b[0mkey\u001b[0m\u001b[0;34m]\u001b[0m\u001b[0;34m\u001b[0m\u001b[0;34m\u001b[0m\u001b[0m\n\u001b[0m\u001b[1;32m     49\u001b[0m \u001b[0;34m\u001b[0m\u001b[0m\n\u001b[1;32m     50\u001b[0m     \u001b[0;32mdef\u001b[0m \u001b[0m__setitem__\u001b[0m\u001b[0;34m(\u001b[0m\u001b[0mself\u001b[0m\u001b[0;34m,\u001b[0m \u001b[0mkey\u001b[0m\u001b[0;34m,\u001b[0m \u001b[0mvalue\u001b[0m\u001b[0;34m)\u001b[0m\u001b[0;34m:\u001b[0m\u001b[0;34m\u001b[0m\u001b[0;34m\u001b[0m\u001b[0m\n",
      "\u001b[0;31mKeyError\u001b[0m: 'CAUPB $M'"
     ]
    }
   ],
   "source": [
    "df_per_summary = df_per.groupby('MonthRep',as_index=False).agg({'CAUPB $M': 'sum','LoanID': 'count'}).persist()\n",
    "progress(df_per_summary)"
   ]
  },
  {
   "cell_type": "code",
   "execution_count": null,
   "metadata": {},
   "outputs": [],
   "source": []
  },
  {
   "cell_type": "code",
   "execution_count": null,
   "metadata": {},
   "outputs": [],
   "source": [
    "del df_per_summary2"
   ]
  },
  {
   "cell_type": "code",
   "execution_count": null,
   "metadata": {},
   "outputs": [],
   "source": [
    "df_per_summary.head()"
   ]
  },
  {
   "cell_type": "code",
   "execution_count": null,
   "metadata": {},
   "outputs": [],
   "source": [
    "%time df_per_csv = dask_cudf.read_csv(csv_perf_fnames, sep='|', names=col_per_names, dtype=dtype_per, parse_dates=parse_dates_per)\n",
    "df_per_summary = df_per_csv.groupby('MonthRep',as_index=False).agg({'CAUPB': 'sum','LoanID': 'count'}).persist()\n",
    "progress(df_per_summary)"
   ]
  },
  {
   "cell_type": "code",
   "execution_count": null,
   "metadata": {},
   "outputs": [],
   "source": [
    "df_per_summary=df_per_summary.compute()"
   ]
  },
  {
   "cell_type": "code",
   "execution_count": null,
   "metadata": {},
   "outputs": [],
   "source": [
    "# test=df_per_summary.to_pandas().reset_index()\n",
    "#test\n",
    "#test['MonthRep']=pd.to_datetime(test['MonthRep'])\n",
    "# test.sort_values(by=['MonthRep'])\n",
    "# test.sort_values(by=['MonthRep']).plot.line(x='MonthRep', y='CAUPB')\n",
    "df_per_summary.to_pandas().plot.line(x='MonthRep', y='CAUPB')"
   ]
  },
  {
   "cell_type": "code",
   "execution_count": null,
   "metadata": {},
   "outputs": [],
   "source": []
  },
  {
   "cell_type": "code",
   "execution_count": null,
   "metadata": {},
   "outputs": [],
   "source": [
    "df_per_latest=df_per.drop_duplicates(subset='LoanID', keep='last', inplace=False).persist()\n",
    "progress(df_per_latest)"
   ]
  },
  {
   "cell_type": "code",
   "execution_count": null,
   "metadata": {},
   "outputs": [],
   "source": []
  },
  {
   "cell_type": "code",
   "execution_count": null,
   "metadata": {},
   "outputs": [],
   "source": [
    "df_acq=df_acq.compute()\n",
    "df_per_latest=df_per_latest.compute()\n",
    "print(df_per_latest.shape)\n",
    "print(df_acq.shape)"
   ]
  },
  {
   "cell_type": "code",
   "execution_count": null,
   "metadata": {},
   "outputs": [],
   "source": [
    "#joined=df_acq.merge(df_per_latest,on=['LoanID'],how='left')\n",
    "joined['OrYr']=joined['OrDate'].str[-4:]\n",
    "joined['CAUPB $M']=joined['CAUPB']/1000000\n",
    "joined['OrUnpaidPrinc $M']=joined['OrUnpaidPrinc']/1000000\n",
    "#joined['Active']=np.where(joined['MonthsToMaturity']>0,'Active','Not Active')\n",
    "joined['Active']='Active'\n",
    "joined['Active'].where(joined['MonthsToMaturity']>0,'Not Active')"
   ]
  },
  {
   "cell_type": "code",
   "execution_count": null,
   "metadata": {},
   "outputs": [],
   "source": [
    "joined[joined['Active']=='Active']"
   ]
  },
  {
   "cell_type": "code",
   "execution_count": null,
   "metadata": {},
   "outputs": [],
   "source": [
    "joined_summary = joined.groupby('OrYr').agg({'OrUnpaidPrinc $M': 'sum','LoanID': 'count'})\n",
    "# df_per_latest_summary.compute().to_pandas().sort_values(by=['MonthRep'])"
   ]
  },
  {
   "cell_type": "code",
   "execution_count": null,
   "metadata": {},
   "outputs": [],
   "source": [
    "active loands by year-month"
   ]
  },
  {
   "cell_type": "code",
   "execution_count": null,
   "metadata": {},
   "outputs": [],
   "source": [
    "joined_summary.to_pandas().plot.line()"
   ]
  },
  {
   "cell_type": "code",
   "execution_count": null,
   "metadata": {},
   "outputs": [],
   "source": [
    "#del df_per_latest\n",
    "del df_acq"
   ]
  },
  {
   "cell_type": "code",
   "execution_count": null,
   "metadata": {},
   "outputs": [],
   "source": [
    "joined[joined['OrYr']=='1999']"
   ]
  },
  {
   "cell_type": "code",
   "execution_count": null,
   "metadata": {},
   "outputs": [],
   "source": [
    "joined_summary[]"
   ]
  },
  {
   "cell_type": "code",
   "execution_count": null,
   "metadata": {},
   "outputs": [],
   "source": [
    "by year-month: # of defaults / active loands = default rates"
   ]
  },
  {
   "cell_type": "code",
   "execution_count": null,
   "metadata": {},
   "outputs": [],
   "source": []
  },
  {
   "cell_type": "markdown",
   "metadata": {},
   "source": [
    "## Appendix"
   ]
  }
 ],
 "metadata": {
  "environment": {
   "name": "common-cu110.m59",
   "type": "gcloud",
   "uri": "gcr.io/deeplearning-platform-release/base-cu110:m59"
  },
  "kernelspec": {
   "display_name": "Python [conda env:rapids-0.17]",
   "language": "python",
   "name": "conda-env-rapids-0.17-py"
  },
  "language_info": {
   "codemirror_mode": {
    "name": "ipython",
    "version": 3
   },
   "file_extension": ".py",
   "mimetype": "text/x-python",
   "name": "python",
   "nbconvert_exporter": "python",
   "pygments_lexer": "ipython3",
   "version": "3.7.8"
  }
 },
 "nbformat": 4,
 "nbformat_minor": 4
}
