{
 "cells": [
  {
   "cell_type": "markdown",
   "metadata": {},
   "source": [
    "### Resources Used"
   ]
  },
  {
   "cell_type": "markdown",
   "metadata": {},
   "source": [
    "- https://docs.rapids.ai/api/cudf/stable/10min.html\n",
    "- https://www.dataquest.io/blog/data-science-portfolio-machine-learning/\n",
    "- https://docs.dask.org/en/latest/dataframe-best-practices.html\n",
    "- https://docs.dask.org/en/latest/setup/single-distributed.html#localcluster\n",
    "- Dataset: https://docs.rapids.ai/datasets/mortgage-data\n",
    "- https://dask-cuda.readthedocs.io/en/latest/specializations.html\n",
    "- #!conda create -n rapids-0.16 -c rapidsai -c nvidia -c conda-forge -c defaults rapids=0.16 python=3.7 cudatoolkit=11.0 matplotlib=3.3.3 gcsfs=0.7.1\n"
   ]
  },
  {
   "cell_type": "markdown",
   "metadata": {},
   "source": [
    "## Check Environment"
   ]
  },
  {
   "cell_type": "code",
   "execution_count": null,
   "metadata": {},
   "outputs": [],
   "source": [
    "%%bash\n",
    "nvidia-smi\n",
    "nvcc --version"
   ]
  },
  {
   "cell_type": "code",
   "execution_count": 1,
   "metadata": {},
   "outputs": [
    {
     "name": "stdout",
     "output_type": "stream",
     "text": [
      "numpy Version: 1.19.4\n",
      "pandas Version: 1.1.5\n",
      "XGBoost Version: 1.3.0-SNAPSHOT\n",
      "cudf Version: 0.16.0\n",
      "cudf Version: 0.16.0\n",
      "gcsfs Version: 0.7.1\n",
      "dask_cudf Version: 0.7.1\n",
      "dask Version: 0.7.1\n",
      "matplotlib Version: 3.3.2\n"
     ]
    }
   ],
   "source": [
    "import numpy as np; print('numpy Version:', np.__version__)\n",
    "import pandas as pd; print('pandas Version:', pd.__version__)\n",
    "import xgboost as xgb; print('XGBoost Version:', xgb.__version__)\n",
    "import cudf; print('cudf Version:', cudf.__version__)\n",
    "import cuml; print('cudf Version:', cuml.__version__)\n",
    "import gcsfs; print('gcsfs Version:', gcsfs.__version__)\n",
    "import time\n",
    "import dask_cudf; print('dask_cudf Version:', gcsfs.__version__)\n",
    "import dask; print('dask Version:', gcsfs.__version__)\n",
    "import dask.dataframe as dask_df\n",
    "import glob;\n",
    "import matplotlib; print('matplotlib Version:', matplotlib.__version__)\n",
    "from dask.diagnostics import ProgressBar\n",
    "from dask.distributed import Client, progress, wait\n"
   ]
  },
  {
   "cell_type": "markdown",
   "metadata": {},
   "source": [
    "## Data Types"
   ]
  },
  {
   "cell_type": "code",
   "execution_count": 2,
   "metadata": {},
   "outputs": [],
   "source": [
    "col_acq = ['LoanID','Channel','SellerName','OrInterestRate','OrUnpaidPrinc','OrLoanTerm',\n",
    "        'OrDate','FirstPayment','OrLTV','OrCLTV','NumBorrow','DTIRat','CreditScore',\n",
    "        'FTHomeBuyer','LoanPurpose','PropertyType','NumUnits','OccStatus','PropertyState',\n",
    "        'Zip','MortInsPerc','ProductType','CoCreditScore','MortInsType','RelMortInd']\n",
    "\n",
    "col_per = ['LoanID','MonthRep','Servicer','CurrInterestRate','CAUPB','LoanAge','MonthsToMaturity',\n",
    "          'AdMonthsToMaturity','MaturityDate','MSA','CLDS','ModFlag','ZeroBalCode','ZeroBalDate',\n",
    "          'LastInstallDate','ForeclosureDate','DispositionDate','PPRC','AssetRecCost','MHRC',\n",
    "          'ATFHP','NetSaleProceeds','CreditEnhProceeds','RPMWP','OFP','NIBUPB','PFUPB','RMWPF',\n",
    "          'FPWA','ServicingIndicator']\n",
    "\n",
    "parse_dates_acq =['OrDate','FirstPayment']\n",
    "parse_dates_per =['MonthRep','MaturityDate','ZeroBalDate','LastInstallDate','ForeclosureDate','DispositionDate']\n",
    "\n",
    "dtype_acq={ \"LoanID\":\"int\",\"Channel\":\"str\",\"SellerName\":\"str\",\"OrInterestRate\":\"float\",\"OrUnpaidPrinc\":\"float\",\"OrLoanTerm\":\"float\",\"OrDate\":\"str\",\n",
    "   \"FirstPayment\":\"str\",\"OrLTV\":\"float\",\"OrCLTV\":\"float\",  \"NumBorrow\":\"float\", \"DTIRat\":\"float\", \"CreditScore\":\"float\", \"FTHomeBuyer\":\"str\",\n",
    "   \"LoanPurpose\":\"str\", \"PropertyType\":\"str\", \"NumUnits\":\"float\", \"OccStatus\":\"str\",  \"PropertyState\":\"str\",  \"Zip\":\"int\", \"MortInsPerc\":\"float\",\n",
    "   \"ProductType\":\"str\", \"CoCreditScore\":\"float\", \"MortInsType\":\"float\", \"RelMortInd\":\"str\"}\n",
    "\n",
    "dtype_per={\"LoanID\":\"int\",\"MonthRep\":\"str\",\"Servicer\":\"str\", \"CurrInterestRate\":\"float\", \"CAUPB\":\"float\", \"LoanAge\":\"float\",\"MonthsToMaturity\":\"float\",\n",
    "   \"AdMonthsToMaturity\":\"float\", \"MaturityDate\":\"str\", \"MSA\":\"float\", \"CLDS\":\"float\", \"ModFlag\":\"str\", \"ZeroBalCode\":\"float\", \"ZeroBalDate\":\"str\",\n",
    "    \"LastInstallDate\":\"str\",  \"ForeclosureDate\":\"str\", \"DispositionDate\":\"str\", \"PPRC\":\"float\", \"AssetRecCost\":\"float\", \"MHRC\":\"float\", \"ATFHP\":\"float\",\n",
    "    \"NetSaleProceeds\":\"float\", \"CreditEnhProceeds\":\"float\",\"RPMWP\":\"float\",\"OFP\":\"float\",\"NIBUPB\":\"float\", \"PFUPB\":\"float\", \"RMWPF\":\"float\",\n",
    "   \"FPWA\":\"str\", \"ServicingIndicator\":\"str\"\n",
    "}\n"
   ]
  },
  {
   "cell_type": "markdown",
   "metadata": {},
   "source": [
    "## Test on small sample"
   ]
  },
  {
   "cell_type": "code",
   "execution_count": 3,
   "metadata": {},
   "outputs": [],
   "source": [
    "# sample_acq_fnames='gs://mchrestkha-github-ml-examples/fannie_mae_loans/acq/Acquisition_2016Q1.txt'\n",
    "# sample_perf_fnames='gs://mchrestkha-github-ml-examples/fannie_mae_loans/perf/Performance_2016Q1.txt'\n",
    "\n",
    "# df_acq = pd.read_csv(sample_acq_fnames, sep='|', names=col_acq, index_col=False, dtype=dtype_acq, parse_dates=parse_dates_acq)\n",
    "# df_per = pd.read_csv(sample_perf_fnames, sep='|', names=col_per, index_col=False, dtype=dtype_per, parse_dates=parse_dates_per)"
   ]
  },
  {
   "cell_type": "markdown",
   "metadata": {},
   "source": [
    "## Run on full population"
   ]
  },
  {
   "cell_type": "markdown",
   "metadata": {},
   "source": [
    "### Dask_cuDF"
   ]
  },
  {
   "cell_type": "code",
   "execution_count": 4,
   "metadata": {},
   "outputs": [
    {
     "data": {
      "text/html": [
       "<table style=\"border: 2px solid white;\">\n",
       "<tr>\n",
       "<td style=\"vertical-align: top; border: 0px solid white\">\n",
       "<h3 style=\"text-align: left;\">Client</h3>\n",
       "<ul style=\"text-align: left; list-style: none; margin: 0; padding: 0;\">\n",
       "  <li><b>Scheduler: </b>tcp://127.0.0.1:43775</li>\n",
       "  <li><b>Dashboard: </b><a href='http://127.0.0.1:8787/status' target='_blank'>http://127.0.0.1:8787/status</a></li>\n",
       "</ul>\n",
       "</td>\n",
       "<td style=\"vertical-align: top; border: 0px solid white\">\n",
       "<h3 style=\"text-align: left;\">Cluster</h3>\n",
       "<ul style=\"text-align: left; list-style:none; margin: 0; padding: 0;\">\n",
       "  <li><b>Workers: </b>2</li>\n",
       "  <li><b>Cores: </b>2</li>\n",
       "  <li><b>Memory: </b>179.38 GB</li>\n",
       "</ul>\n",
       "</td>\n",
       "</tr>\n",
       "</table>"
      ],
      "text/plain": [
       "<Client: 'tcp://127.0.0.1:43775' processes=2 threads=2, memory=179.38 GB>"
      ]
     },
     "execution_count": 4,
     "metadata": {},
     "output_type": "execute_result"
    }
   ],
   "source": [
    "from dask_cuda import LocalCUDACluster\n",
    "from dask.distributed import Client\n",
    "# Create a Dask Cluster with one worker per GPU\n",
    "num_workers=2\n",
    "processes=True\n",
    "cluster = LocalCUDACluster(n_workers=num_workers, processes=processes)\n",
    "# cluster = LocalCUDACluster()\n",
    "client = Client(cluster)\n",
    "client"
   ]
  },
  {
   "cell_type": "code",
   "execution_count": 5,
   "metadata": {},
   "outputs": [
    {
     "name": "stdout",
     "output_type": "stream",
     "text": [
      "/snap/google-cloud-sdk/162/lib/third_party/requests/__init__.py:83: RequestsDependencyWarning: Old version of cryptography ([1, 2, 3]) may cause slowdown.\n",
      "  warnings.warn(warning, RequestsDependencyWarning)\n",
      "4.01 GiB     gs://mchrestkha-github-ml-examples/fannie_mae_loans/acq\n",
      "/snap/google-cloud-sdk/162/lib/third_party/requests/__init__.py:83: RequestsDependencyWarning: Old version of cryptography ([1, 2, 3]) may cause slowdown.\n",
      "  warnings.warn(warning, RequestsDependencyWarning)\n",
      "190.96 GiB   gs://mchrestkha-github-ml-examples/fannie_mae_loans/perf\n"
     ]
    }
   ],
   "source": [
    "acq_fnames='gs://mchrestkha-github-ml-examples/fannie_mae_loans/acq/Acquisition_201*'\n",
    "perf_fnames='gs://mchrestkha-github-ml-examples/fannie_mae_loans/perf/Performance_201*'\n",
    "!gsutil du -sh 'gs://mchrestkha-github-ml-examples/fannie_mae_loans/acq/'\n",
    "!gsutil du -sh 'gs://mchrestkha-github-ml-examples/fannie_mae_loans/perf/'"
   ]
  },
  {
   "cell_type": "code",
   "execution_count": 6,
   "metadata": {},
   "outputs": [
    {
     "name": "stdout",
     "output_type": "stream",
     "text": [
      "CPU times: user 1.15 s, sys: 661 ms, total: 1.81 s\n",
      "Wall time: 4.11 s\n"
     ]
    }
   ],
   "source": [
    "#%time df_acq = dask_cudf.read_csv(acq_fnames, sep='|', names=col_acq, dtype=dtype_acq, parse_dates=parse_dates_acq)\n",
    "%time df_per = dask_cudf.read_csv(perf_fnames, sep='|', names=col_per, dtype=dtype_per, parse_dates=parse_dates_per)"
   ]
  },
  {
   "cell_type": "code",
   "execution_count": null,
   "metadata": {},
   "outputs": [],
   "source": [
    "print(type(df_per))\n",
    "print(df_per.npartitions)\n",
    "print(df_per.shape)"
   ]
  },
  {
   "cell_type": "code",
   "execution_count": null,
   "metadata": {},
   "outputs": [],
   "source": [
    "rows=df_per.shape[0].persist() # start computation in the background\n",
    "progress(rows)      # watch progress (takes ~3 min)"
   ]
  },
  {
   "cell_type": "code",
   "execution_count": null,
   "metadata": {},
   "outputs": [],
   "source": [
    "rows=rows.compute()\n",
    "cols=df_per.shape[1]\n",
    "print(rows,',', cols) "
   ]
  },
  {
   "cell_type": "code",
   "execution_count": null,
   "metadata": {},
   "outputs": [],
   "source": [
    "df_per_1loan=df_per.drop_duplicates(subset='LoanID', keep='last', inplace=False).persist()\n",
    "progress(df_per_1loan)      # watch progress (takes ~3 min)"
   ]
  },
  {
   "cell_type": "code",
   "execution_count": null,
   "metadata": {},
   "outputs": [],
   "source": [
    "del df_per_1loan\n",
    "del rows\n",
    "# del df_per_desc"
   ]
  },
  {
   "cell_type": "code",
   "execution_count": 7,
   "metadata": {},
   "outputs": [
    {
     "data": {
      "application/vnd.jupyter.widget-view+json": {
       "model_id": "91051a86f48c49cca90a084f7690d5da",
       "version_major": 2,
       "version_minor": 0
      },
      "text/plain": [
       "VBox()"
      ]
     },
     "metadata": {},
     "output_type": "display_data"
    }
   ],
   "source": [
    "df_per_desc=df_per.describe().persist()\n",
    "progress(df_per_desc)      # watch progress "
   ]
  },
  {
   "cell_type": "code",
   "execution_count": 8,
   "metadata": {},
   "outputs": [
    {
     "data": {
      "text/html": [
       "<div>\n",
       "<style scoped>\n",
       "    .dataframe tbody tr th:only-of-type {\n",
       "        vertical-align: middle;\n",
       "    }\n",
       "\n",
       "    .dataframe tbody tr th {\n",
       "        vertical-align: top;\n",
       "    }\n",
       "\n",
       "    .dataframe thead th {\n",
       "        text-align: right;\n",
       "    }\n",
       "</style>\n",
       "<table border=\"1\" class=\"dataframe\">\n",
       "  <thead>\n",
       "    <tr style=\"text-align: right;\">\n",
       "      <th></th>\n",
       "      <th>ATFHP</th>\n",
       "      <th>AdMonthsToMaturity</th>\n",
       "      <th>AssetRecCost</th>\n",
       "      <th>CAUPB</th>\n",
       "      <th>CLDS</th>\n",
       "      <th>CreditEnhProceeds</th>\n",
       "      <th>CurrInterestRate</th>\n",
       "      <th>LoanAge</th>\n",
       "      <th>LoanID</th>\n",
       "      <th>MHRC</th>\n",
       "      <th>MSA</th>\n",
       "      <th>MonthsToMaturity</th>\n",
       "      <th>NIBUPB</th>\n",
       "      <th>NetSaleProceeds</th>\n",
       "      <th>OFP</th>\n",
       "      <th>PFUPB</th>\n",
       "      <th>PPRC</th>\n",
       "      <th>RMWPF</th>\n",
       "      <th>RPMWP</th>\n",
       "      <th>ZeroBalCode</th>\n",
       "    </tr>\n",
       "  </thead>\n",
       "  <tbody>\n",
       "    <tr>\n",
       "      <th>count</th>\n",
       "      <td>11404.000000</td>\n",
       "      <td>5.683560e+08</td>\n",
       "      <td>9884.000000</td>\n",
       "      <td>4.853730e+08</td>\n",
       "      <td>5.689803e+08</td>\n",
       "      <td>13006.000000</td>\n",
       "      <td>5.689803e+08</td>\n",
       "      <td>5.689803e+08</td>\n",
       "      <td>5.689803e+08</td>\n",
       "      <td>5901.000000</td>\n",
       "      <td>5.689803e+08</td>\n",
       "      <td>5.689803e+08</td>\n",
       "      <td>6924.000000</td>\n",
       "      <td>10722.000000</td>\n",
       "      <td>448.000000</td>\n",
       "      <td>624314.000000</td>\n",
       "      <td>13263.000000</td>\n",
       "      <td>329.000000</td>\n",
       "      <td>3450.000000</td>\n",
       "      <td>5.468040e+06</td>\n",
       "    </tr>\n",
       "    <tr>\n",
       "      <th>mean</th>\n",
       "      <td>1253.420575</td>\n",
       "      <td>2.639612e+02</td>\n",
       "      <td>7169.169378</td>\n",
       "      <td>1.898636e+05</td>\n",
       "      <td>-1.331150e-03</td>\n",
       "      <td>126106.352694</td>\n",
       "      <td>4.019165e+00</td>\n",
       "      <td>2.629323e+01</td>\n",
       "      <td>4.750422e+01</td>\n",
       "      <td>1915.180191</td>\n",
       "      <td>2.758539e+04</td>\n",
       "      <td>2.725358e+02</td>\n",
       "      <td>5367.822400</td>\n",
       "      <td>4813.221921</td>\n",
       "      <td>83046.175643</td>\n",
       "      <td>1348.223943</td>\n",
       "      <td>5001.977686</td>\n",
       "      <td>10178.437254</td>\n",
       "      <td>44136.579741</td>\n",
       "      <td>1.030975e+00</td>\n",
       "    </tr>\n",
       "    <tr>\n",
       "      <th>std</th>\n",
       "      <td>2888.108139</td>\n",
       "      <td>9.623637e+01</td>\n",
       "      <td>8358.342868</td>\n",
       "      <td>1.142066e+05</td>\n",
       "      <td>4.714148e-01</td>\n",
       "      <td>92911.662259</td>\n",
       "      <td>6.430933e-01</td>\n",
       "      <td>1.982052e+01</td>\n",
       "      <td>NaN</td>\n",
       "      <td>1839.677489</td>\n",
       "      <td>1.391756e+04</td>\n",
       "      <td>9.056833e+01</td>\n",
       "      <td>25376.995677</td>\n",
       "      <td>5949.186262</td>\n",
       "      <td>87317.360591</td>\n",
       "      <td>8639.325233</td>\n",
       "      <td>4447.388388</td>\n",
       "      <td>16802.095683</td>\n",
       "      <td>50615.718478</td>\n",
       "      <td>4.692321e-01</td>\n",
       "    </tr>\n",
       "    <tr>\n",
       "      <th>min</th>\n",
       "      <td>-16901.599609</td>\n",
       "      <td>0.000000e+00</td>\n",
       "      <td>5.000000</td>\n",
       "      <td>0.000000e+00</td>\n",
       "      <td>-2.000000e+00</td>\n",
       "      <td>0.000000</td>\n",
       "      <td>1.750000e+00</td>\n",
       "      <td>-2.000000e+00</td>\n",
       "      <td>-2.147483e+09</td>\n",
       "      <td>0.000000</td>\n",
       "      <td>0.000000e+00</td>\n",
       "      <td>-1.000000e+00</td>\n",
       "      <td>0.000000</td>\n",
       "      <td>0.000000</td>\n",
       "      <td>0.000000</td>\n",
       "      <td>0.000000</td>\n",
       "      <td>0.600000</td>\n",
       "      <td>0.000000</td>\n",
       "      <td>0.000000</td>\n",
       "      <td>1.000000e+00</td>\n",
       "    </tr>\n",
       "    <tr>\n",
       "      <th>25%</th>\n",
       "      <td>297.910004</td>\n",
       "      <td>2.830000e+02</td>\n",
       "      <td>3188.434937</td>\n",
       "      <td>1.295044e+05</td>\n",
       "      <td>0.000000e+00</td>\n",
       "      <td>81175.927734</td>\n",
       "      <td>3.750000e+00</td>\n",
       "      <td>1.300000e+01</td>\n",
       "      <td>-1.002994e+09</td>\n",
       "      <td>1094.352509</td>\n",
       "      <td>1.782000e+04</td>\n",
       "      <td>2.960000e+02</td>\n",
       "      <td>356.035004</td>\n",
       "      <td>1916.119965</td>\n",
       "      <td>42278.132812</td>\n",
       "      <td>0.000000</td>\n",
       "      <td>3534.849976</td>\n",
       "      <td>0.000000</td>\n",
       "      <td>25076.794922</td>\n",
       "      <td>1.000000e+00</td>\n",
       "    </tr>\n",
       "    <tr>\n",
       "      <th>50%</th>\n",
       "      <td>1166.715027</td>\n",
       "      <td>3.340000e+02</td>\n",
       "      <td>5411.087402</td>\n",
       "      <td>2.045942e+05</td>\n",
       "      <td>0.000000e+00</td>\n",
       "      <td>132757.625000</td>\n",
       "      <td>4.375000e+00</td>\n",
       "      <td>2.900000e+01</td>\n",
       "      <td>8.344316e+07</td>\n",
       "      <td>1851.905029</td>\n",
       "      <td>3.110000e+04</td>\n",
       "      <td>3.370000e+02</td>\n",
       "      <td>1234.119995</td>\n",
       "      <td>3676.180176</td>\n",
       "      <td>67659.992188</td>\n",
       "      <td>0.000000</td>\n",
       "      <td>5213.122559</td>\n",
       "      <td>0.000000</td>\n",
       "      <td>39710.777344</td>\n",
       "      <td>1.000000e+00</td>\n",
       "    </tr>\n",
       "    <tr>\n",
       "      <th>75%</th>\n",
       "      <td>7691.000000</td>\n",
       "      <td>3.550000e+02</td>\n",
       "      <td>14549.403320</td>\n",
       "      <td>7.918387e+05</td>\n",
       "      <td>0.000000e+00</td>\n",
       "      <td>238664.765625</td>\n",
       "      <td>5.250000e+00</td>\n",
       "      <td>5.300000e+01</td>\n",
       "      <td>1.223547e+09</td>\n",
       "      <td>3830.000000</td>\n",
       "      <td>4.014000e+04</td>\n",
       "      <td>3.550000e+02</td>\n",
       "      <td>4503.345093</td>\n",
       "      <td>8769.165039</td>\n",
       "      <td>137807.601562</td>\n",
       "      <td>94666.671875</td>\n",
       "      <td>9328.490234</td>\n",
       "      <td>13529.689453</td>\n",
       "      <td>68713.562500</td>\n",
       "      <td>1.500000e+01</td>\n",
       "    </tr>\n",
       "    <tr>\n",
       "      <th>max</th>\n",
       "      <td>80564.023438</td>\n",
       "      <td>4.800000e+02</td>\n",
       "      <td>85684.234375</td>\n",
       "      <td>1.403000e+06</td>\n",
       "      <td>9.100000e+01</td>\n",
       "      <td>942587.375000</td>\n",
       "      <td>8.500000e+00</td>\n",
       "      <td>1.310000e+02</td>\n",
       "      <td>2.147484e+09</td>\n",
       "      <td>34452.000000</td>\n",
       "      <td>4.974000e+04</td>\n",
       "      <td>4.830000e+02</td>\n",
       "      <td>450003.687500</td>\n",
       "      <td>102833.742188</td>\n",
       "      <td>473630.250000</td>\n",
       "      <td>238809.250000</td>\n",
       "      <td>142121.171875</td>\n",
       "      <td>52994.332031</td>\n",
       "      <td>597175.687500</td>\n",
       "      <td>1.600000e+01</td>\n",
       "    </tr>\n",
       "  </tbody>\n",
       "</table>\n",
       "</div>"
      ],
      "text/plain": [
       "              ATFHP  AdMonthsToMaturity  AssetRecCost         CAUPB  \\\n",
       "count  11404.000000        5.683560e+08   9884.000000  4.853730e+08   \n",
       "mean    1253.420575        2.639612e+02   7169.169378  1.898636e+05   \n",
       "std     2888.108139        9.623637e+01   8358.342868  1.142066e+05   \n",
       "min   -16901.599609        0.000000e+00      5.000000  0.000000e+00   \n",
       "25%      297.910004        2.830000e+02   3188.434937  1.295044e+05   \n",
       "50%     1166.715027        3.340000e+02   5411.087402  2.045942e+05   \n",
       "75%     7691.000000        3.550000e+02  14549.403320  7.918387e+05   \n",
       "max    80564.023438        4.800000e+02  85684.234375  1.403000e+06   \n",
       "\n",
       "               CLDS  CreditEnhProceeds  CurrInterestRate       LoanAge  \\\n",
       "count  5.689803e+08       13006.000000      5.689803e+08  5.689803e+08   \n",
       "mean  -1.331150e-03      126106.352694      4.019165e+00  2.629323e+01   \n",
       "std    4.714148e-01       92911.662259      6.430933e-01  1.982052e+01   \n",
       "min   -2.000000e+00           0.000000      1.750000e+00 -2.000000e+00   \n",
       "25%    0.000000e+00       81175.927734      3.750000e+00  1.300000e+01   \n",
       "50%    0.000000e+00      132757.625000      4.375000e+00  2.900000e+01   \n",
       "75%    0.000000e+00      238664.765625      5.250000e+00  5.300000e+01   \n",
       "max    9.100000e+01      942587.375000      8.500000e+00  1.310000e+02   \n",
       "\n",
       "             LoanID          MHRC           MSA  MonthsToMaturity  \\\n",
       "count  5.689803e+08   5901.000000  5.689803e+08      5.689803e+08   \n",
       "mean   4.750422e+01   1915.180191  2.758539e+04      2.725358e+02   \n",
       "std             NaN   1839.677489  1.391756e+04      9.056833e+01   \n",
       "min   -2.147483e+09      0.000000  0.000000e+00     -1.000000e+00   \n",
       "25%   -1.002994e+09   1094.352509  1.782000e+04      2.960000e+02   \n",
       "50%    8.344316e+07   1851.905029  3.110000e+04      3.370000e+02   \n",
       "75%    1.223547e+09   3830.000000  4.014000e+04      3.550000e+02   \n",
       "max    2.147484e+09  34452.000000  4.974000e+04      4.830000e+02   \n",
       "\n",
       "              NIBUPB  NetSaleProceeds            OFP          PFUPB  \\\n",
       "count    6924.000000     10722.000000     448.000000  624314.000000   \n",
       "mean     5367.822400      4813.221921   83046.175643    1348.223943   \n",
       "std     25376.995677      5949.186262   87317.360591    8639.325233   \n",
       "min         0.000000         0.000000       0.000000       0.000000   \n",
       "25%       356.035004      1916.119965   42278.132812       0.000000   \n",
       "50%      1234.119995      3676.180176   67659.992188       0.000000   \n",
       "75%      4503.345093      8769.165039  137807.601562   94666.671875   \n",
       "max    450003.687500    102833.742188  473630.250000  238809.250000   \n",
       "\n",
       "                PPRC         RMWPF          RPMWP   ZeroBalCode  \n",
       "count   13263.000000    329.000000    3450.000000  5.468040e+06  \n",
       "mean     5001.977686  10178.437254   44136.579741  1.030975e+00  \n",
       "std      4447.388388  16802.095683   50615.718478  4.692321e-01  \n",
       "min         0.600000      0.000000       0.000000  1.000000e+00  \n",
       "25%      3534.849976      0.000000   25076.794922  1.000000e+00  \n",
       "50%      5213.122559      0.000000   39710.777344  1.000000e+00  \n",
       "75%      9328.490234  13529.689453   68713.562500  1.500000e+01  \n",
       "max    142121.171875  52994.332031  597175.687500  1.600000e+01  "
      ]
     },
     "execution_count": 8,
     "metadata": {},
     "output_type": "execute_result"
    }
   ],
   "source": [
    "df_per_desc=df_per_desc.compute()\n",
    "df_per_desc"
   ]
  },
  {
   "cell_type": "code",
   "execution_count": null,
   "metadata": {},
   "outputs": [],
   "source": [
    "print(type(df_per_1loan))\n",
    "print(df_per_1loan.npartitions)\n",
    "print(df_per_1loan.shape)"
   ]
  },
  {
   "cell_type": "code",
   "execution_count": null,
   "metadata": {},
   "outputs": [],
   "source": [
    "#df_per_1loan=df_per_1loan.compute() \n",
    "print(type(df_per_1loan))\n",
    "#print(df_per_1loan.npartitions)\n",
    "print(df_per_1loan.shape)"
   ]
  },
  {
   "cell_type": "code",
   "execution_count": null,
   "metadata": {},
   "outputs": [],
   "source": [
    "#df_per_1loan.hist(column='LoanAge')\n",
    "loan_age=df_per_1loan[['LoanAge','LoanID']].groupby('LoanAge',as_index=False).count()\n",
    "loan_age.plot.line()"
   ]
  },
  {
   "cell_type": "code",
   "execution_count": null,
   "metadata": {},
   "outputs": [],
   "source": []
  },
  {
   "cell_type": "code",
   "execution_count": null,
   "metadata": {},
   "outputs": [],
   "source": [
    "print(type(out))\n",
    "y=out.compute()\n",
    "print(type(y))\n",
    "y.head()"
   ]
  },
  {
   "cell_type": "code",
   "execution_count": null,
   "metadata": {},
   "outputs": [],
   "source": [
    "y= x.compute()\n",
    "type(df_per)"
   ]
  },
  {
   "cell_type": "code",
   "execution_count": null,
   "metadata": {},
   "outputs": [],
   "source": []
  },
  {
   "cell_type": "code",
   "execution_count": null,
   "metadata": {},
   "outputs": [],
   "source": [
    "type(test)"
   ]
  },
  {
   "cell_type": "code",
   "execution_count": null,
   "metadata": {},
   "outputs": [],
   "source": [
    "rows=df_acq.shape[0].compute()\n",
    "cols=df_acq.shape[1]\n",
    "print(rows,',', cols) \n",
    "rows=df_per.shape[0].compute()\n",
    "cols=df_per.shape[1]\n",
    "print(rows,',', cols) "
   ]
  },
  {
   "cell_type": "code",
   "execution_count": null,
   "metadata": {},
   "outputs": [],
   "source": []
  },
  {
   "cell_type": "code",
   "execution_count": null,
   "metadata": {},
   "outputs": [],
   "source": []
  },
  {
   "cell_type": "code",
   "execution_count": null,
   "metadata": {},
   "outputs": [],
   "source": [
    "#df_per.head()\n",
    "df_per.iloc[:,1:5].describe()\n",
    "df_per.describe()"
   ]
  },
  {
   "cell_type": "code",
   "execution_count": null,
   "metadata": {},
   "outputs": [],
   "source": []
  },
  {
   "cell_type": "code",
   "execution_count": null,
   "metadata": {},
   "outputs": [],
   "source": [
    "df_acq['RelMortInd'].describe()\n",
    "df_acq['RelMortInd'].unique()\n",
    "df_per['CLDS'].describe()\n"
   ]
  },
  {
   "cell_type": "code",
   "execution_count": null,
   "metadata": {},
   "outputs": [],
   "source": [
    "#%time print('Describe:',df_per.describe())\n",
    "#%time print('Describe:',df_per.isna().any())\n"
   ]
  },
  {
   "cell_type": "code",
   "execution_count": null,
   "metadata": {},
   "outputs": [],
   "source": []
  },
  {
   "cell_type": "code",
   "execution_count": null,
   "metadata": {},
   "outputs": [],
   "source": []
  },
  {
   "cell_type": "code",
   "execution_count": null,
   "metadata": {},
   "outputs": [],
   "source": []
  },
  {
   "cell_type": "code",
   "execution_count": null,
   "metadata": {},
   "outputs": [],
   "source": [
    "df_per_1loan=df_per.drop_duplicates(subset='LoanID', keep='last', inplace=False)\n",
    "print(df_per.shape)\n",
    "print(df_per_1loan.shape)\n",
    "df_per_1loan.head()"
   ]
  },
  {
   "cell_type": "code",
   "execution_count": null,
   "metadata": {},
   "outputs": [],
   "source": [
    "\n",
    "\n",
    "\n"
   ]
  },
  {
   "cell_type": "code",
   "execution_count": null,
   "metadata": {},
   "outputs": [],
   "source": []
  }
 ],
 "metadata": {
  "environment": {
   "name": "common-cu110.m59",
   "type": "gcloud",
   "uri": "gcr.io/deeplearning-platform-release/base-cu110:m59"
  },
  "kernelspec": {
   "display_name": "Python [conda env:rapids-0.16]",
   "language": "python",
   "name": "conda-env-rapids-0.16-py"
  },
  "language_info": {
   "codemirror_mode": {
    "name": "ipython",
    "version": 3
   },
   "file_extension": ".py",
   "mimetype": "text/x-python",
   "name": "python",
   "nbconvert_exporter": "python",
   "pygments_lexer": "ipython3",
   "version": "3.7.9"
  }
 },
 "nbformat": 4,
 "nbformat_minor": 4
}
