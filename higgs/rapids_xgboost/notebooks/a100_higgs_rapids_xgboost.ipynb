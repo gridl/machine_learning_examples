{
 "cells": [
  {
   "cell_type": "markdown",
   "metadata": {},
   "source": [
    "- Using the pre-build RAPIDS image on Google Cloud's AI Platform Notebooks with a T4 GPU, 8vCPUs, 30GB RAM\n",
    "- https://cloud.google.com/ai-platform/notebooks/docs/images#deciding\n",
    "- This should provide CUDA 10.0, rapids 0.12"
   ]
  },
  {
   "cell_type": "code",
   "execution_count": null,
   "metadata": {},
   "outputs": [],
   "source": [
    "%%bash\n",
    "nvidia-smi\n",
    "nvcc --version"
   ]
  },
  {
   "cell_type": "code",
   "execution_count": null,
   "metadata": {},
   "outputs": [],
   "source": [
    "#!conda create -n rapids-0.16 -c rapidsai -c nvidia -c conda-forge -c defaults rapids=0.16 python=3.7 cudatoolkit=11.0"
   ]
  },
  {
   "cell_type": "code",
   "execution_count": 1,
   "metadata": {},
   "outputs": [
    {
     "name": "stdout",
     "output_type": "stream",
     "text": [
      "numpy Version: 1.19.4\n",
      "pandas Version: 1.1.4\n",
      "XGBoost Version: 1.3.0-SNAPSHOT\n",
      "cudf Version: 0.16.0\n",
      "cudf Version: 0.16.0\n",
      "gcsfs Version: 0.7.1\n"
     ]
    }
   ],
   "source": [
    "import numpy as np; print('numpy Version:', np.__version__)\n",
    "import pandas as pd; print('pandas Version:', pd.__version__)\n",
    "import xgboost as xgb; print('XGBoost Version:', xgb.__version__)\n",
    "import cudf; print('cudf Version:', cudf.__version__)\n",
    "import cuml; print('cudf Version:', cuml.__version__)\n",
    "import gcsfs; print('gcsfs Version:', gcsfs.__version__)\n",
    "import time"
   ]
  },
  {
   "cell_type": "markdown",
   "metadata": {},
   "source": [
    "Download HIGGs dataset & unzip\n",
    "https://archive.ics.uci.edu/ml/datasets/HIGGS"
   ]
  },
  {
   "cell_type": "code",
   "execution_count": null,
   "metadata": {},
   "outputs": [],
   "source": [
    "# %%bash\n",
    "# wget https://archive.ics.uci.edu/ml/machine-learning-databases/00280/HIGGS.csv.gz -P /home/jupyter/\n",
    "# gzip -d /home/jupyter/HIGGS.csv.gz /home/jupyter/\n",
    "# ls -lh /home/jupyter/"
   ]
  },
  {
   "cell_type": "code",
   "execution_count": 2,
   "metadata": {},
   "outputs": [],
   "source": [
    "colnames = ['label'] + ['feature-%02d' % i for i in range(1, 29)]\n",
    "#filname = '/home/jupyter/HIGGS.csv'\n",
    "filname = 'gs://mchrestkha-github-ml-examples/higgs/HIGGS.csv'"
   ]
  },
  {
   "cell_type": "code",
   "execution_count": null,
   "metadata": {},
   "outputs": [],
   "source": []
  },
  {
   "cell_type": "code",
   "execution_count": 5,
   "metadata": {},
   "outputs": [
    {
     "name": "stdout",
     "output_type": "stream",
     "text": [
      "[INFO]: ------ Data Ingestion is completed in 40.777522802352905 seconds ---\n",
      "[INFO]: ------ DMatrix is completed in 0.21851801872253418 seconds ---\n",
      "[INFO]: ------ Training is completed in 4.119179964065552 seconds ---\n"
     ]
    }
   ],
   "source": [
    "start_time = time.time()\n",
    "df=cudf.read_csv(filname, header=None, names=colnames)\n",
    "print(\"[INFO]: ------ Data Ingestion is completed in {} seconds ---\".format((time.time() - start_time)))\n",
    "start_time = time.time()\n",
    "X = df[df.columns.difference(['label'])]\n",
    "y = df['label']\n",
    "dtrain=xgb.DMatrix(X,y)\n",
    "print(\"[INFO]: ------ DMatrix is completed in {} seconds ---\".format((time.time() - start_time)))\n",
    "\n",
    "start_time = time.time()\n",
    "param =  {\n",
    "               'max_depth': 8,\n",
    "               'objective': 'reg:squarederror',\n",
    "               'tree_method': 'gpu_hist'\n",
    "             }\n",
    "bst = xgb.train(param, dtrain)\n",
    "print(\"[INFO]: ------ Training is completed in {} seconds ---\".format((time.time() - start_time)))"
   ]
  },
  {
   "cell_type": "code",
   "execution_count": null,
   "metadata": {},
   "outputs": [],
   "source": []
  },
  {
   "cell_type": "code",
   "execution_count": null,
   "metadata": {},
   "outputs": [],
   "source": []
  },
  {
   "cell_type": "markdown",
   "metadata": {},
   "source": [
    "## Single Node with CPUs (PANDAS + XGBoost) or single GPU (RAPIDS-cuDF + XGBoost)\n",
    "- XGBoost w/ RAPIDS examples https://rapids.ai/xgboost.html\n",
    "\n",
    "### Expected CPUs numbers\n",
    "[INFO]: ------ Data Ingestion is completed in 104.7611632347107 seconds ---   \n",
    "TOD0: Add Data transformation steps  \n",
    "[INFO]: ------ Training is completed in 30.218074321746826 seconds ---\n",
    "\n",
    "#### Expected GPU numbers\n",
    "[INFO]: ------ Data Ingestion is completed in 18.212464094161987 seconds ---  \n",
    "TOD0: Add Data transformation steps  \n",
    "[INFO]: ------ Training is completed in 5.825598955154419 seconds ---"
   ]
  },
  {
   "cell_type": "code",
   "execution_count": 13,
   "metadata": {},
   "outputs": [],
   "source": [
    "def xgboost_fun(gpu_cpu, tree_method, filname):\n",
    "    colnames = ['label'] + ['feature-%02d' % i for i in range(1, 29)]\n",
    "    \n",
    "    start_time = time.time()\n",
    "    if gpu_cpu=='cpu':\n",
    "        df=pd.read_csv(filname, header=None, names=colnames)\n",
    "    else: \n",
    "        df=cudf.read_csv(filname, header=None, names=colnames)\n",
    "    print(\"[INFO]: ------ Data Ingestion is completed in {} seconds ---\".format((time.time() - start_time)))\n",
    "\n",
    "    start_time = time.time()\n",
    "    X = df[df.columns.difference(['label'])]\n",
    "    y = df['label']\n",
    "    dtrain=xgb.DMatrix(X,y)\n",
    "    print(\"[INFO]: ------ DMatrix is completed in {} seconds ---\".format((time.time() - start_time)))\n",
    "\n",
    "    start_time = time.time()\n",
    "    param =  {\n",
    "    #           'max_depth': 8,\n",
    "               'objective': 'reg:squarederror',\n",
    "               'tree_method': tree_method\n",
    "             }\n",
    "    bst = xgb.train(param, dtrain)\n",
    "    print(\"[INFO]: ------ Training is completed in {} seconds ---\".format((time.time() - start_time)))\n",
    "    return bst"
   ]
  },
  {
   "cell_type": "code",
   "execution_count": null,
   "metadata": {},
   "outputs": [],
   "source": []
  },
  {
   "cell_type": "code",
   "execution_count": 14,
   "metadata": {},
   "outputs": [
    {
     "name": "stdout",
     "output_type": "stream",
     "text": [
      "[INFO]: ------ Data Ingestion is completed in 37.2753381729126 seconds ---\n",
      "[INFO]: ------ DMatrix is completed in 0.08628320693969727 seconds ---\n",
      "[INFO]: ------ Training is completed in 3.8763697147369385 seconds ---\n"
     ]
    }
   ],
   "source": [
    "bst=xgboost_fun('gpu','gpu_hist',filname)"
   ]
  },
  {
   "cell_type": "code",
   "execution_count": 15,
   "metadata": {},
   "outputs": [
    {
     "name": "stdout",
     "output_type": "stream",
     "text": [
      "[INFO]: ------ Data Ingestion is completed in 209.98585748672485 seconds ---\n",
      "[INFO]: ------ DMatrix is completed in 3.794123888015747 seconds ---\n",
      "[INFO]: ------ Training is completed in 16.614694833755493 seconds ---\n"
     ]
    }
   ],
   "source": [
    "bst=xgboost_fun('cpu','hist',filname)"
   ]
  },
  {
   "cell_type": "markdown",
   "metadata": {},
   "source": [
    "## TODO: Single Node with multiple GPUS (Dask + RAPIDS) --- Scales to 4 T4s, 8 V100s, or 16 A100s on GCP\n"
   ]
  },
  {
   "cell_type": "code",
   "execution_count": null,
   "metadata": {},
   "outputs": [],
   "source": []
  },
  {
   "cell_type": "markdown",
   "metadata": {},
   "source": [
    "## TODO: Multi-Node with multiple GPUS (Dask + RAPIDS) Scales to 64+ GPUs"
   ]
  },
  {
   "cell_type": "code",
   "execution_count": null,
   "metadata": {},
   "outputs": [],
   "source": []
  }
 ],
 "metadata": {
  "environment": {
   "name": "common-cu110.m59",
   "type": "gcloud",
   "uri": "gcr.io/deeplearning-platform-release/base-cu110:m59"
  },
  "kernelspec": {
   "display_name": "Python [conda env:rapids-0.16]",
   "language": "python",
   "name": "conda-env-rapids-0.16-py"
  },
  "language_info": {
   "codemirror_mode": {
    "name": "ipython",
    "version": 3
   },
   "file_extension": ".py",
   "mimetype": "text/x-python",
   "name": "python",
   "nbconvert_exporter": "python",
   "pygments_lexer": "ipython3",
   "version": "3.7.8"
  }
 },
 "nbformat": 4,
 "nbformat_minor": 4
}
