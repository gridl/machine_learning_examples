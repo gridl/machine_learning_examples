{
 "cells": [
  {
   "cell_type": "markdown",
   "metadata": {},
   "source": [
    "#!conda create -n rapids-0.16 -c rapidsai -c nvidia -c conda-forge -c defaults rapids=0.16 python=3.7 cudatoolkit=11.0"
   ]
  },
  {
   "cell_type": "code",
   "execution_count": null,
   "metadata": {},
   "outputs": [],
   "source": [
    "%%bash\n",
    "nvidia-smi\n",
    "nvcc --version"
   ]
  },
  {
   "cell_type": "code",
   "execution_count": null,
   "metadata": {},
   "outputs": [],
   "source": [
    "import numpy as np; print('numpy Version:', np.__version__)\n",
    "import pandas as pd; print('pandas Version:', pd.__version__)\n",
    "import xgboost as xgb; print('XGBoost Version:', xgb.__version__)\n",
    "import cudf; print('cudf Version:', cudf.__version__)\n",
    "import cuml; print('cudf Version:', cuml.__version__)\n",
    "import gcsfs; print('gcsfs Version:', gcsfs.__version__)\n",
    "import time\n",
    "import dask_cudf; print('dask_cudf Version:', gcsfs.__version__)\n",
    "import dask; print('dask Version:', gcsfs.__version__)\n",
    "import dask.dataframe as dask_df"
   ]
  },
  {
   "cell_type": "markdown",
   "metadata": {},
   "source": [
    "Download HIGGs dataset & unzip\n",
    "https://archive.ics.uci.edu/ml/datasets/HIGGS"
   ]
  },
  {
   "cell_type": "code",
   "execution_count": null,
   "metadata": {},
   "outputs": [],
   "source": [
    "# %%bash\n",
    "# wget https://archive.ics.uci.edu/ml/machine-learning-databases/00280/HIGGS.csv.gz -P /home/jupyter/\n",
    "# gzip -d /home/jupyter/HIGGS.csv.gz /home/jupyter/\n",
    "# ls -lh /home/jupyter/"
   ]
  },
  {
   "cell_type": "code",
   "execution_count": null,
   "metadata": {},
   "outputs": [],
   "source": [
    "colnames = ['label'] + ['feature-%02d' % i for i in range(1, 29)]\n",
    "#filname = '/home/jupyter/HIGGS.csv'\n",
    "filname = 'gs://mchrestkha-github-ml-examples/higgs/HIGGS.csv'"
   ]
  },
  {
   "cell_type": "markdown",
   "metadata": {},
   "source": [
    "## Pandas"
   ]
  },
  {
   "cell_type": "code",
   "execution_count": null,
   "metadata": {},
   "outputs": [],
   "source": [
    "start_time = time.time()\n",
    "df=pd.read_csv(filname, header=None, names=colnames)\n",
    "print(\"[INFO]: ------ Data Ingestion is completed in {} seconds ---\".format((time.time() - start_time)))\n",
    "start_time = time.time()\n",
    "X = df[df.columns.difference(['label'])]\n",
    "y = df['label']\n",
    "dtrain=xgb.DMatrix(X,y)\n",
    "print(\"[INFO]: ------ DMatrix is completed in {} seconds ---\".format((time.time() - start_time)))\n",
    "\n",
    "\n",
    "start_time = time.time()\n",
    "param =  {\n",
    "               'max_depth': 8,\n",
    "               'objective': 'reg:squarederror',\n",
    "               'tree_method': 'hist'\n",
    "             }\n",
    "bst = xgb.train(param, dtrain,num_boost_round=100)\n",
    "print(\"[INFO]: ------ Training is completed in {} seconds ---\".format((time.time() - start_time)))"
   ]
  },
  {
   "cell_type": "markdown",
   "metadata": {},
   "source": [
    "## cuDF"
   ]
  },
  {
   "cell_type": "code",
   "execution_count": null,
   "metadata": {},
   "outputs": [],
   "source": [
    "start_time = time.time()\n",
    "df=cudf.read_csv(filname, header=None, names=colnames)\n",
    "print(\"[INFO]: ------ Data Ingestion is completed in {} seconds ---\".format((time.time() - start_time)))\n",
    "start_time = time.time()\n",
    "X = df[df.columns.difference(['label'])]\n",
    "y = df['label']\n",
    "dtrain=xgb.DMatrix(X,y)\n",
    "print(\"[INFO]: ------ DMatrix is completed in {} seconds ---\".format((time.time() - start_time)))\n",
    "\n",
    "start_time = time.time()\n",
    "param =  {\n",
    "               'max_depth': 8,\n",
    "               'objective': 'reg:squarederror',\n",
    "               'tree_method': 'gpu_hist'\n",
    "             }\n",
    "bst = xgb.train(param, dtrain,num_boost_round=100)\n",
    "print(\"[INFO]: ------ Training is completed in {} seconds ---\".format((time.time() - start_time)))"
   ]
  },
  {
   "cell_type": "markdown",
   "metadata": {},
   "source": [
    "## Dask"
   ]
  },
  {
   "cell_type": "code",
   "execution_count": null,
   "metadata": {},
   "outputs": [],
   "source": [
    "from dask.distributed import Client, LocalCluster\n",
    "cluster = LocalCluster()\n",
    "# num_workders=2\n",
    "# threads_per_worker=12\n",
    "# cluster = LocalCluster(n_workers=num_workders, threads_per_worker=threads_per_worker)\n",
    "\n",
    "client = Client(cluster)\n",
    "client"
   ]
  },
  {
   "cell_type": "code",
   "execution_count": null,
   "metadata": {},
   "outputs": [],
   "source": [
    "start_time = time.time()\n",
    "df=dask_df.read_csv(filname, header=None, names=colnames)\n",
    "df=df.persist()\n",
    "print(\"[INFO]: ------ Data Ingestion is completed in {} seconds ---\".format((time.time() - start_time)))\n",
    "# start_time = time.time()\n",
    "X = df[df.columns.difference(['label'])]\n",
    "y = df['label']\n",
    "dtrain=xgb.dask.DaskDMatrix(client,X,y)\n",
    "\n",
    "del df\n",
    "del X\n",
    "del y\n",
    "\n",
    "print(\"[INFO]: ------ DMatrix is completed in {} seconds ---\".format((time.time() - start_time)))\n",
    "\n",
    "start_time = time.time()\n",
    "param =  {\n",
    "               'max_depth': 8,\n",
    "               'objective': 'reg:squarederror',\n",
    "               'tree_method': 'hist'\n",
    "             }\n",
    "bst = xgb.dask.train(client,param, dtrain,num_boost_round=100)\n",
    "print(\"[INFO]: ------ Training is completed in {} seconds ---\".format((time.time() - start_time)))"
   ]
  },
  {
   "cell_type": "markdown",
   "metadata": {},
   "source": [
    "## Dask_cuDF"
   ]
  },
  {
   "cell_type": "code",
   "execution_count": null,
   "metadata": {},
   "outputs": [],
   "source": [
    "from dask_cuda import LocalCUDACluster\n",
    "from dask.distributed import Client\n",
    "# Create a Dask Cluster with one worker per GPU\n",
    "num_workders=2\n",
    "threads_per_worker=12\n",
    "cluster = LocalCUDACluster(n_workers=num_workders, threads_per_worker=threads_per_worker)\n",
    "#cluster = LocalCUDACluster()\n",
    "\n",
    "client = Client(cluster)\n",
    "client"
   ]
  },
  {
   "cell_type": "code",
   "execution_count": null,
   "metadata": {},
   "outputs": [],
   "source": [
    "start_time = time.time()\n",
    "df=dask_cudf.read_csv(filname, header=None, names=colnames)\n",
    "df=df.persist()\n",
    "print(\"[INFO]: ------ Data Ingestion is completed in {} seconds ---\".format((time.time() - start_time)))\n",
    "# start_time = time.time()\n",
    "X = df[df.columns.difference(['label'])]\n",
    "y = df['label']\n",
    "#dtrain=xgb.dask.DaskDMatrix(client,X,y)\n",
    "dtrain=xgb.dask.DaskDeviceQuantileDMatrix(client, X,y)\n",
    "\n",
    "del df\n",
    "del X\n",
    "del y\n",
    "\n",
    "print(\"[INFO]: ------ DMatrix is completed in {} seconds ---\".format((time.time() - start_time)))\n",
    "\n",
    "start_time = time.time()\n",
    "param =  {\n",
    "               'max_depth': 8,\n",
    "               'objective': 'reg:squarederror',\n",
    "               'tree_method': 'gpu_hist'\n",
    "             }\n",
    "bst = xgb.dask.train(client,param, dtrain,num_boost_round=100)\n",
    "print(\"[INFO]: ------ Training is completed in {} seconds ---\".format((time.time() - start_time)))"
   ]
  },
  {
   "cell_type": "code",
   "execution_count": null,
   "metadata": {},
   "outputs": [],
   "source": [
    "from dask_cuda import LocalCUDACluster\n",
    "from dask.distributed import Client\n",
    "# Create a Dask Cluster with one worker per GPU\n",
    "# num_workders=2\n",
    "# threads_per_worker=12\n",
    "# cluster = LocalCUDACluster(n_workers=num_workders, threads_per_worker=threads_per_worker)\n",
    "cluster = LocalCUDACluster()\n",
    "\n",
    "client = Client(cluster)\n",
    "client\n",
    "\n",
    "start_time = time.time()\n",
    "df=dask_cudf.read_csv(filname, header=None, names=colnames)\n",
    "df=df.persist()\n",
    "print(\"[INFO]: ------ Data Ingestion is completed in {} seconds ---\".format((time.time() - start_time)))\n",
    "# start_time = time.time()\n",
    "X = df[df.columns.difference(['label'])]\n",
    "y = df['label']\n",
    "#dtrain=xgb.dask.DaskDMatrix(client,X,y)\n",
    "dtrain=xgb.dask.DaskDeviceQuantileDMatrix(client, X,y)\n",
    "\n",
    "del df\n",
    "del X\n",
    "del y\n",
    "\n",
    "print(\"[INFO]: ------ DMatrix is completed in {} seconds ---\".format((time.time() - start_time)))\n",
    "\n",
    "start_time = time.time()\n",
    "param =  {\n",
    "               'max_depth': 8,\n",
    "               'objective': 'reg:squarederror',\n",
    "               'tree_method': 'gpu_hist'\n",
    "             }\n",
    "bst = xgb.dask.train(client,param, dtrain,num_boost_round=100)\n",
    "print(\"[INFO]: ------ Training is completed in {} seconds ---\".format((time.time() - start_time)))"
   ]
  },
  {
   "cell_type": "code",
   "execution_count": null,
   "metadata": {},
   "outputs": [],
   "source": []
  }
 ],
 "metadata": {
  "environment": {
   "name": "common-cu110.m59",
   "type": "gcloud",
   "uri": "gcr.io/deeplearning-platform-release/base-cu110:m59"
  },
  "kernelspec": {
   "display_name": "Python [conda env:rapids-0.16]",
   "language": "python",
   "name": "conda-env-rapids-0.16-py"
  },
  "language_info": {
   "codemirror_mode": {
    "name": "ipython",
    "version": 3
   },
   "file_extension": ".py",
   "mimetype": "text/x-python",
   "name": "python",
   "nbconvert_exporter": "python",
   "pygments_lexer": "ipython3",
   "version": "3.7.9"
  }
 },
 "nbformat": 4,
 "nbformat_minor": 4
}
