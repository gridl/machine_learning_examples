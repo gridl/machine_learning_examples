{
 "cells": [
  {
   "cell_type": "markdown",
   "metadata": {},
   "source": [
    "- Using the pre-build RAPIDS image on Google Cloud's AI Platform Notebooks with a T4 GPU, 4vCPUs, 15GB RAM\n",
    "- https://cloud.google.com/ai-platform/notebooks/docs/images#deciding\n",
    "- This should provide CUDA 10.0, rapids 0.12"
   ]
  },
  {
   "cell_type": "code",
   "execution_count": null,
   "metadata": {},
   "outputs": [],
   "source": [
    "%%bash\n",
    "nvidia-smi\n",
    "nvcc --version"
   ]
  },
  {
   "cell_type": "code",
   "execution_count": null,
   "metadata": {},
   "outputs": [],
   "source": [
    "import numpy as np; print('numpy Version:', np.__version__)\n",
    "import pandas as pd; print('pandas Version:', pd.__version__)\n",
    "import xgboost as xgb; print('XGBoost Version:', xgb.__version__)\n",
    "import cudf; print('cudf Version:', cudf.__version__)\n",
    "import cuml; print('cudf Version:', cuml.__version__)\n",
    "import time"
   ]
  },
  {
   "cell_type": "markdown",
   "metadata": {},
   "source": [
    "Download HIGGs dataset & unzip\n",
    "https://archive.ics.uci.edu/ml/datasets/HIGGS"
   ]
  },
  {
   "cell_type": "code",
   "execution_count": null,
   "metadata": {},
   "outputs": [],
   "source": [
    "# %%bash\n",
    "# wget https://archive.ics.uci.edu/ml/machine-learning-databases/00280/HIGGS.csv.gz -P /home/jupyter/"
   ]
  },
  {
   "cell_type": "markdown",
   "metadata": {},
   "source": [
    "## Single Node with CPUs (PANDAS + XGBoost) or single GPU (RAPIDS-cuDF + XGBoost)\n",
    "- Read dataset: cudf.read_csv reads dataset directly into GPU using cudf/rapids\n",
    "- pd.read_csv takes ~80s, cudf.read_csv takes ~35s\n",
    "- XGBoost w/ RAPIDS examples https://rapids.ai/xgboost.html"
   ]
  },
  {
   "cell_type": "code",
   "execution_count": null,
   "metadata": {},
   "outputs": [],
   "source": [
    "def xgboost_fun(gpu_cpu, tree_method):\n",
    "    colnames = ['label'] + ['feature-%02d' % i for i in range(1, 29)]\n",
    "    start_time = time.time()\n",
    "    if gpu_cpu=='cpu':\n",
    "        df=pd.read_csv('/home/jupyter/HIGGS.csv', header=None, names=colnames)\n",
    "    else: \n",
    "        df=cudf.read_csv('/home/jupyter/HIGGS.csv', header=None, names=colnames)\n",
    "    print(\"[INFO]: ------ Data Ingestion is completed in {} seconds ---\".format((time.time() - start_time)))\n",
    "\n",
    "    X = df[df.columns.difference(['label'])]\n",
    "    y = df['label']\n",
    "    dtrain=xgb.DMatrix(X,y)\n",
    "    param =  {\n",
    "               'max_depth': 8,\n",
    "               'objective': 'reg:squarederror',\n",
    "               'tree_method': tree_method\n",
    "             }\n",
    "\n",
    "    start_time = time.time()\n",
    "    bst = xgb.train(param, dtrain)\n",
    "    print(\"[INFO]: ------ Training is completed in {} seconds ---\".format((time.time() - start_time)))\n",
    "    return bst"
   ]
  },
  {
   "cell_type": "code",
   "execution_count": null,
   "metadata": {},
   "outputs": [],
   "source": [
    "bst=xgboost_fun('gpu','gpu_hist')\n",
    "# bst=xgboost_fun('cpu','hist')"
   ]
  },
  {
   "cell_type": "code",
   "execution_count": null,
   "metadata": {},
   "outputs": [],
   "source": [
    "bst=xgboost_fun('cpu','hist')"
   ]
  },
  {
   "cell_type": "markdown",
   "metadata": {},
   "source": [
    "## TODO: Single Node with multiple GPUS (Dask + RAPIDS)\n"
   ]
  },
  {
   "cell_type": "code",
   "execution_count": null,
   "metadata": {},
   "outputs": [],
   "source": []
  },
  {
   "cell_type": "markdown",
   "metadata": {},
   "source": [
    "## TODO: Multi-Node with multiple GPUS (Dask + RAPIDS)"
   ]
  },
  {
   "cell_type": "code",
   "execution_count": null,
   "metadata": {},
   "outputs": [],
   "source": []
  }
 ],
 "metadata": {
  "kernelspec": {
   "display_name": "Python 3",
   "language": "python",
   "name": "python3"
  },
  "language_info": {
   "codemirror_mode": {
    "name": "ipython",
    "version": 3
   },
   "file_extension": ".py",
   "mimetype": "text/x-python",
   "name": "python",
   "nbconvert_exporter": "python",
   "pygments_lexer": "ipython3",
   "version": "3.7.6"
  }
 },
 "nbformat": 4,
 "nbformat_minor": 4
}
